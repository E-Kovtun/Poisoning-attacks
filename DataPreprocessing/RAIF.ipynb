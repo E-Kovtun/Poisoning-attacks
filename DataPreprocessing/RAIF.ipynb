{
 "cells": [
  {
   "cell_type": "code",
   "execution_count": 2,
   "metadata": {},
   "outputs": [],
   "source": [
    "import pandas as pd\n",
    "import numpy as np\n",
    "import matplotlib.pyplot as plt\n",
    "import os\n",
    "from sklearn.preprocessing import LabelEncoder"
   ]
  },
  {
   "cell_type": "code",
   "execution_count": 3,
   "metadata": {},
   "outputs": [],
   "source": [
    "data_folder = '../../data/raif/'"
   ]
  },
  {
   "cell_type": "code",
   "execution_count": 4,
   "metadata": {},
   "outputs": [],
   "source": [
    "data = pd.read_csv(os.path.join(data_folder, 'transactions_last_2.csv'), delimiter=';')"
   ]
  },
  {
   "cell_type": "code",
   "execution_count": 5,
   "metadata": {},
   "outputs": [
    {
     "data": {
      "text/html": [
       "<div>\n",
       "<style scoped>\n",
       "    .dataframe tbody tr th:only-of-type {\n",
       "        vertical-align: middle;\n",
       "    }\n",
       "\n",
       "    .dataframe tbody tr th {\n",
       "        vertical-align: top;\n",
       "    }\n",
       "\n",
       "    .dataframe thead th {\n",
       "        text-align: right;\n",
       "    }\n",
       "</style>\n",
       "<table border=\"1\" class=\"dataframe\">\n",
       "  <thead>\n",
       "    <tr style=\"text-align: right;\">\n",
       "      <th></th>\n",
       "      <th>purchdate</th>\n",
       "      <th>amount</th>\n",
       "      <th>mcc</th>\n",
       "      <th>mrchcity</th>\n",
       "      <th>mrchname</th>\n",
       "      <th>cnum</th>\n",
       "    </tr>\n",
       "  </thead>\n",
       "  <tbody>\n",
       "    <tr>\n",
       "      <th>0</th>\n",
       "      <td>2019-11-02 00:00:00</td>\n",
       "      <td>9000000.0</td>\n",
       "      <td>5691</td>\n",
       "      <td>MOSCOW</td>\n",
       "      <td>IA7D1H Z1D1T7</td>\n",
       "      <td>MJNLMQ</td>\n",
       "    </tr>\n",
       "    <tr>\n",
       "      <th>1</th>\n",
       "      <td>2019-11-02 00:00:00</td>\n",
       "      <td>9000000.0</td>\n",
       "      <td>5691</td>\n",
       "      <td>MOSCOW</td>\n",
       "      <td>IA7D1H Z1D1T7</td>\n",
       "      <td>MJNLMQ</td>\n",
       "    </tr>\n",
       "    <tr>\n",
       "      <th>2</th>\n",
       "      <td>2019-10-25 00:00:00</td>\n",
       "      <td>7716900.0</td>\n",
       "      <td>5691</td>\n",
       "      <td>MOSCOW</td>\n",
       "      <td>HXL4K TL4EEXD</td>\n",
       "      <td>ELETCO</td>\n",
       "    </tr>\n",
       "    <tr>\n",
       "      <th>3</th>\n",
       "      <td>2019-11-29 00:00:00</td>\n",
       "      <td>5100000.0</td>\n",
       "      <td>6513</td>\n",
       "      <td>SANKT-PETERBU</td>\n",
       "      <td>7X 1E7HXD H1DKW1IKCL</td>\n",
       "      <td>EL0KSF</td>\n",
       "    </tr>\n",
       "    <tr>\n",
       "      <th>4</th>\n",
       "      <td>2019-12-03 00:00:00</td>\n",
       "      <td>5023956.6</td>\n",
       "      <td>5944</td>\n",
       "      <td>MOSKVA</td>\n",
       "      <td>73 7HJXK7 (W7X)</td>\n",
       "      <td>MPKIJJ</td>\n",
       "    </tr>\n",
       "  </tbody>\n",
       "</table>\n",
       "</div>"
      ],
      "text/plain": [
       "             purchdate     amount   mcc       mrchcity              mrchname  \\\n",
       "0  2019-11-02 00:00:00  9000000.0  5691         MOSCOW         IA7D1H Z1D1T7   \n",
       "1  2019-11-02 00:00:00  9000000.0  5691         MOSCOW         IA7D1H Z1D1T7   \n",
       "2  2019-10-25 00:00:00  7716900.0  5691         MOSCOW         HXL4K TL4EEXD   \n",
       "3  2019-11-29 00:00:00  5100000.0  6513  SANKT-PETERBU  7X 1E7HXD H1DKW1IKCL   \n",
       "4  2019-12-03 00:00:00  5023956.6  5944         MOSKVA       73 7HJXK7 (W7X)   \n",
       "\n",
       "     cnum  \n",
       "0  MJNLMQ  \n",
       "1  MJNLMQ  \n",
       "2  ELETCO  \n",
       "3  EL0KSF  \n",
       "4  MPKIJJ  "
      ]
     },
     "execution_count": 5,
     "metadata": {},
     "output_type": "execute_result"
    }
   ],
   "source": [
    "data.head()"
   ]
  },
  {
   "cell_type": "code",
   "execution_count": 6,
   "metadata": {},
   "outputs": [
    {
     "data": {
      "text/plain": [
       "(104161408, 6)"
      ]
     },
     "execution_count": 6,
     "metadata": {},
     "output_type": "execute_result"
    }
   ],
   "source": [
    "data.shape"
   ]
  },
  {
   "cell_type": "code",
   "execution_count": 7,
   "metadata": {},
   "outputs": [
    {
     "data": {
      "text/plain": [
       "1355925"
      ]
     },
     "execution_count": 7,
     "metadata": {},
     "output_type": "execute_result"
    }
   ],
   "source": [
    "data['cnum'].nunique()"
   ]
  },
  {
   "cell_type": "code",
   "execution_count": 8,
   "metadata": {},
   "outputs": [],
   "source": [
    "status =  pd.read_csv(os.path.join(data_folder, 'clients_last_2_fixed.csv'), delimiter=';')"
   ]
  },
  {
   "cell_type": "code",
   "execution_count": 9,
   "metadata": {},
   "outputs": [
    {
     "data": {
      "text/html": [
       "<div>\n",
       "<style scoped>\n",
       "    .dataframe tbody tr th:only-of-type {\n",
       "        vertical-align: middle;\n",
       "    }\n",
       "\n",
       "    .dataframe tbody tr th {\n",
       "        vertical-align: top;\n",
       "    }\n",
       "\n",
       "    .dataframe thead th {\n",
       "        text-align: right;\n",
       "    }\n",
       "</style>\n",
       "<table border=\"1\" class=\"dataframe\">\n",
       "  <thead>\n",
       "    <tr style=\"text-align: right;\">\n",
       "      <th></th>\n",
       "      <th>cnum_</th>\n",
       "      <th>categorycode</th>\n",
       "      <th>gender</th>\n",
       "      <th>age</th>\n",
       "      <th>married_</th>\n",
       "      <th>residenttype</th>\n",
       "    </tr>\n",
       "  </thead>\n",
       "  <tbody>\n",
       "    <tr>\n",
       "      <th>0</th>\n",
       "      <td>0CCCDO</td>\n",
       "      <td>81</td>\n",
       "      <td>M</td>\n",
       "      <td>32</td>\n",
       "      <td>not_married</td>\n",
       "      <td>R</td>\n",
       "    </tr>\n",
       "    <tr>\n",
       "      <th>1</th>\n",
       "      <td>0CCCFO</td>\n",
       "      <td>70</td>\n",
       "      <td>F</td>\n",
       "      <td>42</td>\n",
       "      <td>not_married</td>\n",
       "      <td>R</td>\n",
       "    </tr>\n",
       "    <tr>\n",
       "      <th>2</th>\n",
       "      <td>0CCCGC</td>\n",
       "      <td>50</td>\n",
       "      <td>F</td>\n",
       "      <td>33</td>\n",
       "      <td>married</td>\n",
       "      <td>R</td>\n",
       "    </tr>\n",
       "    <tr>\n",
       "      <th>3</th>\n",
       "      <td>0CCCGG</td>\n",
       "      <td>70</td>\n",
       "      <td>M</td>\n",
       "      <td>58</td>\n",
       "      <td>not_married</td>\n",
       "      <td>R</td>\n",
       "    </tr>\n",
       "    <tr>\n",
       "      <th>4</th>\n",
       "      <td>0CCCGO</td>\n",
       "      <td>60</td>\n",
       "      <td>M</td>\n",
       "      <td>38</td>\n",
       "      <td>married</td>\n",
       "      <td>R</td>\n",
       "    </tr>\n",
       "  </tbody>\n",
       "</table>\n",
       "</div>"
      ],
      "text/plain": [
       "    cnum_  categorycode gender  age     married_ residenttype\n",
       "0  0CCCDO            81      M   32  not_married            R\n",
       "1  0CCCFO            70      F   42  not_married            R\n",
       "2  0CCCGC            50      F   33      married            R\n",
       "3  0CCCGG            70      M   58  not_married            R\n",
       "4  0CCCGO            60      M   38      married            R"
      ]
     },
     "execution_count": 9,
     "metadata": {},
     "output_type": "execute_result"
    }
   ],
   "source": [
    "status.head()"
   ]
  },
  {
   "cell_type": "code",
   "execution_count": 10,
   "metadata": {},
   "outputs": [
    {
     "data": {
      "text/plain": [
       "1355925"
      ]
     },
     "execution_count": 10,
     "metadata": {},
     "output_type": "execute_result"
    }
   ],
   "source": [
    "status['cnum_'].nunique()"
   ]
  },
  {
   "cell_type": "code",
   "execution_count": 11,
   "metadata": {},
   "outputs": [
    {
     "data": {
      "text/plain": [
       "array(['not_married', 'married'], dtype=object)"
      ]
     },
     "execution_count": 11,
     "metadata": {},
     "output_type": "execute_result"
    }
   ],
   "source": [
    "status['married_'].unique()"
   ]
  },
  {
   "cell_type": "markdown",
   "metadata": {},
   "source": [
    "### Balancing number of married / not_married id"
   ]
  },
  {
   "cell_type": "code",
   "execution_count": 12,
   "metadata": {},
   "outputs": [
    {
     "data": {
      "text/plain": [
       "not_married    64.433579\n",
       "married        35.566421\n",
       "Name: married_, dtype: float64"
      ]
     },
     "execution_count": 12,
     "metadata": {},
     "output_type": "execute_result"
    }
   ],
   "source": [
    "status['married_'].value_counts() / len(status) * 100"
   ]
  },
  {
   "cell_type": "code",
   "execution_count": 13,
   "metadata": {},
   "outputs": [
    {
     "data": {
      "text/plain": [
       "gender  married_   \n",
       "F       not_married    32.564117\n",
       "        married        14.673599\n",
       "M       not_married    31.869462\n",
       "        married        20.892822\n",
       "Name: married_, dtype: float64"
      ]
     },
     "execution_count": 13,
     "metadata": {},
     "output_type": "execute_result"
    }
   ],
   "source": [
    "status.groupby('gender')['married_'].value_counts() / len(status) * 100"
   ]
  },
  {
   "cell_type": "markdown",
   "metadata": {},
   "source": [
    "### Composing transaction histories for each id"
   ]
  },
  {
   "cell_type": "code",
   "execution_count": 14,
   "metadata": {},
   "outputs": [
    {
     "data": {
      "text/html": [
       "<div>\n",
       "<style scoped>\n",
       "    .dataframe tbody tr th:only-of-type {\n",
       "        vertical-align: middle;\n",
       "    }\n",
       "\n",
       "    .dataframe tbody tr th {\n",
       "        vertical-align: top;\n",
       "    }\n",
       "\n",
       "    .dataframe thead th {\n",
       "        text-align: right;\n",
       "    }\n",
       "</style>\n",
       "<table border=\"1\" class=\"dataframe\">\n",
       "  <thead>\n",
       "    <tr style=\"text-align: right;\">\n",
       "      <th></th>\n",
       "      <th>purchdate</th>\n",
       "      <th>amount</th>\n",
       "      <th>mcc</th>\n",
       "      <th>mrchcity</th>\n",
       "      <th>mrchname</th>\n",
       "      <th>cnum</th>\n",
       "    </tr>\n",
       "  </thead>\n",
       "  <tbody>\n",
       "    <tr>\n",
       "      <th>0</th>\n",
       "      <td>2019-11-02 00:00:00</td>\n",
       "      <td>9000000.0</td>\n",
       "      <td>5691</td>\n",
       "      <td>MOSCOW</td>\n",
       "      <td>IA7D1H Z1D1T7</td>\n",
       "      <td>MJNLMQ</td>\n",
       "    </tr>\n",
       "    <tr>\n",
       "      <th>1</th>\n",
       "      <td>2019-11-02 00:00:00</td>\n",
       "      <td>9000000.0</td>\n",
       "      <td>5691</td>\n",
       "      <td>MOSCOW</td>\n",
       "      <td>IA7D1H Z1D1T7</td>\n",
       "      <td>MJNLMQ</td>\n",
       "    </tr>\n",
       "    <tr>\n",
       "      <th>2</th>\n",
       "      <td>2019-10-25 00:00:00</td>\n",
       "      <td>7716900.0</td>\n",
       "      <td>5691</td>\n",
       "      <td>MOSCOW</td>\n",
       "      <td>HXL4K TL4EEXD</td>\n",
       "      <td>ELETCO</td>\n",
       "    </tr>\n",
       "    <tr>\n",
       "      <th>3</th>\n",
       "      <td>2019-11-29 00:00:00</td>\n",
       "      <td>5100000.0</td>\n",
       "      <td>6513</td>\n",
       "      <td>SANKT-PETERBU</td>\n",
       "      <td>7X 1E7HXD H1DKW1IKCL</td>\n",
       "      <td>EL0KSF</td>\n",
       "    </tr>\n",
       "    <tr>\n",
       "      <th>4</th>\n",
       "      <td>2019-12-03 00:00:00</td>\n",
       "      <td>5023956.6</td>\n",
       "      <td>5944</td>\n",
       "      <td>MOSKVA</td>\n",
       "      <td>73 7HJXK7 (W7X)</td>\n",
       "      <td>MPKIJJ</td>\n",
       "    </tr>\n",
       "  </tbody>\n",
       "</table>\n",
       "</div>"
      ],
      "text/plain": [
       "             purchdate     amount   mcc       mrchcity              mrchname  \\\n",
       "0  2019-11-02 00:00:00  9000000.0  5691         MOSCOW         IA7D1H Z1D1T7   \n",
       "1  2019-11-02 00:00:00  9000000.0  5691         MOSCOW         IA7D1H Z1D1T7   \n",
       "2  2019-10-25 00:00:00  7716900.0  5691         MOSCOW         HXL4K TL4EEXD   \n",
       "3  2019-11-29 00:00:00  5100000.0  6513  SANKT-PETERBU  7X 1E7HXD H1DKW1IKCL   \n",
       "4  2019-12-03 00:00:00  5023956.6  5944         MOSKVA       73 7HJXK7 (W7X)   \n",
       "\n",
       "     cnum  \n",
       "0  MJNLMQ  \n",
       "1  MJNLMQ  \n",
       "2  ELETCO  \n",
       "3  EL0KSF  \n",
       "4  MPKIJJ  "
      ]
     },
     "execution_count": 14,
     "metadata": {},
     "output_type": "execute_result"
    }
   ],
   "source": [
    "data.head()"
   ]
  },
  {
   "cell_type": "code",
   "execution_count": 15,
   "metadata": {},
   "outputs": [
    {
     "data": {
      "text/plain": [
       "394"
      ]
     },
     "execution_count": 15,
     "metadata": {},
     "output_type": "execute_result"
    }
   ],
   "source": [
    "data['mcc'].nunique()"
   ]
  },
  {
   "cell_type": "code",
   "execution_count": 16,
   "metadata": {},
   "outputs": [
    {
     "data": {
      "text/plain": [
       "(104161408, 6)"
      ]
     },
     "execution_count": 16,
     "metadata": {},
     "output_type": "execute_result"
    }
   ],
   "source": [
    "data.shape"
   ]
  },
  {
   "cell_type": "code",
   "execution_count": 17,
   "metadata": {},
   "outputs": [
    {
     "data": {
      "text/html": [
       "<div>\n",
       "<style scoped>\n",
       "    .dataframe tbody tr th:only-of-type {\n",
       "        vertical-align: middle;\n",
       "    }\n",
       "\n",
       "    .dataframe tbody tr th {\n",
       "        vertical-align: top;\n",
       "    }\n",
       "\n",
       "    .dataframe thead th {\n",
       "        text-align: right;\n",
       "    }\n",
       "</style>\n",
       "<table border=\"1\" class=\"dataframe\">\n",
       "  <thead>\n",
       "    <tr style=\"text-align: right;\">\n",
       "      <th></th>\n",
       "      <th>purchdate</th>\n",
       "      <th>amount</th>\n",
       "      <th>mcc</th>\n",
       "      <th>mrchcity</th>\n",
       "      <th>mrchname</th>\n",
       "      <th>cnum</th>\n",
       "    </tr>\n",
       "  </thead>\n",
       "  <tbody>\n",
       "    <tr>\n",
       "      <th>0</th>\n",
       "      <td>2019-11-02 00:00:00</td>\n",
       "      <td>9000000.0</td>\n",
       "      <td>5691</td>\n",
       "      <td>MOSCOW</td>\n",
       "      <td>IA7D1H Z1D1T7</td>\n",
       "      <td>MJNLMQ</td>\n",
       "    </tr>\n",
       "    <tr>\n",
       "      <th>1</th>\n",
       "      <td>2019-11-02 00:00:00</td>\n",
       "      <td>9000000.0</td>\n",
       "      <td>5691</td>\n",
       "      <td>MOSCOW</td>\n",
       "      <td>IA7D1H Z1D1T7</td>\n",
       "      <td>MJNLMQ</td>\n",
       "    </tr>\n",
       "    <tr>\n",
       "      <th>2</th>\n",
       "      <td>2019-10-25 00:00:00</td>\n",
       "      <td>7716900.0</td>\n",
       "      <td>5691</td>\n",
       "      <td>MOSCOW</td>\n",
       "      <td>HXL4K TL4EEXD</td>\n",
       "      <td>ELETCO</td>\n",
       "    </tr>\n",
       "    <tr>\n",
       "      <th>3</th>\n",
       "      <td>2019-11-29 00:00:00</td>\n",
       "      <td>5100000.0</td>\n",
       "      <td>6513</td>\n",
       "      <td>SANKT-PETERBU</td>\n",
       "      <td>7X 1E7HXD H1DKW1IKCL</td>\n",
       "      <td>EL0KSF</td>\n",
       "    </tr>\n",
       "    <tr>\n",
       "      <th>4</th>\n",
       "      <td>2019-12-03 00:00:00</td>\n",
       "      <td>5023956.6</td>\n",
       "      <td>5944</td>\n",
       "      <td>MOSKVA</td>\n",
       "      <td>73 7HJXK7 (W7X)</td>\n",
       "      <td>MPKIJJ</td>\n",
       "    </tr>\n",
       "  </tbody>\n",
       "</table>\n",
       "</div>"
      ],
      "text/plain": [
       "             purchdate     amount   mcc       mrchcity              mrchname  \\\n",
       "0  2019-11-02 00:00:00  9000000.0  5691         MOSCOW         IA7D1H Z1D1T7   \n",
       "1  2019-11-02 00:00:00  9000000.0  5691         MOSCOW         IA7D1H Z1D1T7   \n",
       "2  2019-10-25 00:00:00  7716900.0  5691         MOSCOW         HXL4K TL4EEXD   \n",
       "3  2019-11-29 00:00:00  5100000.0  6513  SANKT-PETERBU  7X 1E7HXD H1DKW1IKCL   \n",
       "4  2019-12-03 00:00:00  5023956.6  5944         MOSKVA       73 7HJXK7 (W7X)   \n",
       "\n",
       "     cnum  \n",
       "0  MJNLMQ  \n",
       "1  MJNLMQ  \n",
       "2  ELETCO  \n",
       "3  EL0KSF  \n",
       "4  MPKIJJ  "
      ]
     },
     "execution_count": 17,
     "metadata": {},
     "output_type": "execute_result"
    }
   ],
   "source": [
    "data.head()"
   ]
  },
  {
   "cell_type": "code",
   "execution_count": 18,
   "metadata": {},
   "outputs": [],
   "source": [
    "encoder = LabelEncoder()\n",
    "data['mcc'] = encoder.fit_transform(data['mcc'])"
   ]
  },
  {
   "cell_type": "code",
   "execution_count": 20,
   "metadata": {},
   "outputs": [
    {
     "data": {
      "text/plain": [
       "394"
      ]
     },
     "execution_count": 20,
     "metadata": {},
     "output_type": "execute_result"
    }
   ],
   "source": [
    "len(np.unique(data['mcc']))"
   ]
  },
  {
   "cell_type": "code",
   "execution_count": 21,
   "metadata": {},
   "outputs": [
    {
     "data": {
      "text/plain": [
       "393"
      ]
     },
     "execution_count": 21,
     "metadata": {},
     "output_type": "execute_result"
    }
   ],
   "source": [
    "np.max(data['mcc'])"
   ]
  },
  {
   "cell_type": "code",
   "execution_count": 185,
   "metadata": {},
   "outputs": [],
   "source": [
    "data['purchdate'] = pd.to_datetime(data['purchdate'], format='%Y-%m-%d %H:%M:%S')"
   ]
  },
  {
   "cell_type": "code",
   "execution_count": 186,
   "metadata": {},
   "outputs": [
    {
     "data": {
      "text/html": [
       "<div>\n",
       "<style scoped>\n",
       "    .dataframe tbody tr th:only-of-type {\n",
       "        vertical-align: middle;\n",
       "    }\n",
       "\n",
       "    .dataframe tbody tr th {\n",
       "        vertical-align: top;\n",
       "    }\n",
       "\n",
       "    .dataframe thead th {\n",
       "        text-align: right;\n",
       "    }\n",
       "</style>\n",
       "<table border=\"1\" class=\"dataframe\">\n",
       "  <thead>\n",
       "    <tr style=\"text-align: right;\">\n",
       "      <th></th>\n",
       "      <th>purchdate</th>\n",
       "      <th>amount</th>\n",
       "      <th>mcc</th>\n",
       "      <th>mrchcity</th>\n",
       "      <th>mrchname</th>\n",
       "      <th>cnum</th>\n",
       "    </tr>\n",
       "  </thead>\n",
       "  <tbody>\n",
       "    <tr>\n",
       "      <th>0</th>\n",
       "      <td>2019-11-02</td>\n",
       "      <td>9000000.0</td>\n",
       "      <td>214</td>\n",
       "      <td>MOSCOW</td>\n",
       "      <td>IA7D1H Z1D1T7</td>\n",
       "      <td>MJNLMQ</td>\n",
       "    </tr>\n",
       "    <tr>\n",
       "      <th>1</th>\n",
       "      <td>2019-11-02</td>\n",
       "      <td>9000000.0</td>\n",
       "      <td>214</td>\n",
       "      <td>MOSCOW</td>\n",
       "      <td>IA7D1H Z1D1T7</td>\n",
       "      <td>MJNLMQ</td>\n",
       "    </tr>\n",
       "    <tr>\n",
       "      <th>2</th>\n",
       "      <td>2019-10-25</td>\n",
       "      <td>7716900.0</td>\n",
       "      <td>214</td>\n",
       "      <td>MOSCOW</td>\n",
       "      <td>HXL4K TL4EEXD</td>\n",
       "      <td>ELETCO</td>\n",
       "    </tr>\n",
       "    <tr>\n",
       "      <th>3</th>\n",
       "      <td>2019-11-29</td>\n",
       "      <td>5100000.0</td>\n",
       "      <td>286</td>\n",
       "      <td>SANKT-PETERBU</td>\n",
       "      <td>7X 1E7HXD H1DKW1IKCL</td>\n",
       "      <td>EL0KSF</td>\n",
       "    </tr>\n",
       "    <tr>\n",
       "      <th>4</th>\n",
       "      <td>2019-12-03</td>\n",
       "      <td>5023956.6</td>\n",
       "      <td>247</td>\n",
       "      <td>MOSKVA</td>\n",
       "      <td>73 7HJXK7 (W7X)</td>\n",
       "      <td>MPKIJJ</td>\n",
       "    </tr>\n",
       "  </tbody>\n",
       "</table>\n",
       "</div>"
      ],
      "text/plain": [
       "   purchdate     amount  mcc       mrchcity              mrchname    cnum\n",
       "0 2019-11-02  9000000.0  214         MOSCOW         IA7D1H Z1D1T7  MJNLMQ\n",
       "1 2019-11-02  9000000.0  214         MOSCOW         IA7D1H Z1D1T7  MJNLMQ\n",
       "2 2019-10-25  7716900.0  214         MOSCOW         HXL4K TL4EEXD  ELETCO\n",
       "3 2019-11-29  5100000.0  286  SANKT-PETERBU  7X 1E7HXD H1DKW1IKCL  EL0KSF\n",
       "4 2019-12-03  5023956.6  247         MOSKVA       73 7HJXK7 (W7X)  MPKIJJ"
      ]
     },
     "execution_count": 186,
     "metadata": {},
     "output_type": "execute_result"
    }
   ],
   "source": [
    "data.head()"
   ]
  },
  {
   "cell_type": "code",
   "execution_count": 187,
   "metadata": {},
   "outputs": [],
   "source": [
    "data.sort_values(by='purchdate', inplace=True)"
   ]
  },
  {
   "cell_type": "code",
   "execution_count": 188,
   "metadata": {},
   "outputs": [
    {
     "data": {
      "text/html": [
       "<div>\n",
       "<style scoped>\n",
       "    .dataframe tbody tr th:only-of-type {\n",
       "        vertical-align: middle;\n",
       "    }\n",
       "\n",
       "    .dataframe tbody tr th {\n",
       "        vertical-align: top;\n",
       "    }\n",
       "\n",
       "    .dataframe thead th {\n",
       "        text-align: right;\n",
       "    }\n",
       "</style>\n",
       "<table border=\"1\" class=\"dataframe\">\n",
       "  <thead>\n",
       "    <tr style=\"text-align: right;\">\n",
       "      <th></th>\n",
       "      <th>purchdate</th>\n",
       "      <th>amount</th>\n",
       "      <th>mcc</th>\n",
       "      <th>mrchcity</th>\n",
       "      <th>mrchname</th>\n",
       "      <th>cnum</th>\n",
       "    </tr>\n",
       "  </thead>\n",
       "  <tbody>\n",
       "    <tr>\n",
       "      <th>46308876</th>\n",
       "      <td>2019-09-01</td>\n",
       "      <td>428.2</td>\n",
       "      <td>236</td>\n",
       "      <td>N.NOVGOROD</td>\n",
       "      <td>7WE1IADOO WLD3E MBV5</td>\n",
       "      <td>EEUMYJ</td>\n",
       "    </tr>\n",
       "    <tr>\n",
       "      <th>99913237</th>\n",
       "      <td>2019-09-01</td>\n",
       "      <td>30.0</td>\n",
       "      <td>231</td>\n",
       "      <td>KIROV</td>\n",
       "      <td>Trwhmwc-Talunl</td>\n",
       "      <td>ELNJV5</td>\n",
       "    </tr>\n",
       "    <tr>\n",
       "      <th>99913235</th>\n",
       "      <td>2019-09-01</td>\n",
       "      <td>30.0</td>\n",
       "      <td>231</td>\n",
       "      <td>KIROV</td>\n",
       "      <td>Trwhmwc-Talunl</td>\n",
       "      <td>ELNJV5</td>\n",
       "    </tr>\n",
       "    <tr>\n",
       "      <th>24234483</th>\n",
       "      <td>2019-09-01</td>\n",
       "      <td>1140.0</td>\n",
       "      <td>130</td>\n",
       "      <td>SANKT-PETERBU</td>\n",
       "      <td>ZHX07H 7TEX</td>\n",
       "      <td>EE01QH</td>\n",
       "    </tr>\n",
       "    <tr>\n",
       "      <th>99913230</th>\n",
       "      <td>2019-09-01</td>\n",
       "      <td>30.0</td>\n",
       "      <td>231</td>\n",
       "      <td>KIROV</td>\n",
       "      <td>Trwhmwc-Talunl</td>\n",
       "      <td>ELNJV5</td>\n",
       "    </tr>\n",
       "  </tbody>\n",
       "</table>\n",
       "</div>"
      ],
      "text/plain": [
       "          purchdate  amount  mcc       mrchcity              mrchname    cnum\n",
       "46308876 2019-09-01   428.2  236     N.NOVGOROD  7WE1IADOO WLD3E MBV5  EEUMYJ\n",
       "99913237 2019-09-01    30.0  231          KIROV        Trwhmwc-Talunl  ELNJV5\n",
       "99913235 2019-09-01    30.0  231          KIROV        Trwhmwc-Talunl  ELNJV5\n",
       "24234483 2019-09-01  1140.0  130  SANKT-PETERBU           ZHX07H 7TEX  EE01QH\n",
       "99913230 2019-09-01    30.0  231          KIROV        Trwhmwc-Talunl  ELNJV5"
      ]
     },
     "execution_count": 188,
     "metadata": {},
     "output_type": "execute_result"
    }
   ],
   "source": [
    "data.head()"
   ]
  },
  {
   "cell_type": "code",
   "execution_count": 189,
   "metadata": {},
   "outputs": [],
   "source": [
    "df = data.groupby('cnum')['mcc'].agg(lambda x: list(x))"
   ]
  },
  {
   "cell_type": "code",
   "execution_count": 190,
   "metadata": {},
   "outputs": [],
   "source": [
    "df = pd.DataFrame(df)\n",
    "df.reset_index(inplace=True)"
   ]
  },
  {
   "cell_type": "code",
   "execution_count": 191,
   "metadata": {},
   "outputs": [
    {
     "data": {
      "text/html": [
       "<div>\n",
       "<style scoped>\n",
       "    .dataframe tbody tr th:only-of-type {\n",
       "        vertical-align: middle;\n",
       "    }\n",
       "\n",
       "    .dataframe tbody tr th {\n",
       "        vertical-align: top;\n",
       "    }\n",
       "\n",
       "    .dataframe thead th {\n",
       "        text-align: right;\n",
       "    }\n",
       "</style>\n",
       "<table border=\"1\" class=\"dataframe\">\n",
       "  <thead>\n",
       "    <tr style=\"text-align: right;\">\n",
       "      <th></th>\n",
       "      <th>cnum</th>\n",
       "      <th>mcc</th>\n",
       "    </tr>\n",
       "  </thead>\n",
       "  <tbody>\n",
       "    <tr>\n",
       "      <th>0</th>\n",
       "      <td>0CCCDO</td>\n",
       "      <td>[269, 187, 166, 282, 212, 282, 208, 269, 187, ...</td>\n",
       "    </tr>\n",
       "    <tr>\n",
       "      <th>1</th>\n",
       "      <td>0CCCFO</td>\n",
       "      <td>[281, 281, 281, 281]</td>\n",
       "    </tr>\n",
       "    <tr>\n",
       "      <th>2</th>\n",
       "      <td>0CCCGC</td>\n",
       "      <td>[187, 192, 187, 198, 127, 231, 231, 229, 187, ...</td>\n",
       "    </tr>\n",
       "    <tr>\n",
       "      <th>3</th>\n",
       "      <td>0CCCGG</td>\n",
       "      <td>[187, 198, 187, 198, 127, 187, 187, 198, 187, ...</td>\n",
       "    </tr>\n",
       "    <tr>\n",
       "      <th>4</th>\n",
       "      <td>0CCCGO</td>\n",
       "      <td>[187, 187, 130, 130, 236, 187, 231, 231, 187, ...</td>\n",
       "    </tr>\n",
       "  </tbody>\n",
       "</table>\n",
       "</div>"
      ],
      "text/plain": [
       "     cnum                                                mcc\n",
       "0  0CCCDO  [269, 187, 166, 282, 212, 282, 208, 269, 187, ...\n",
       "1  0CCCFO                               [281, 281, 281, 281]\n",
       "2  0CCCGC  [187, 192, 187, 198, 127, 231, 231, 229, 187, ...\n",
       "3  0CCCGG  [187, 198, 187, 198, 127, 187, 187, 198, 187, ...\n",
       "4  0CCCGO  [187, 187, 130, 130, 236, 187, 231, 231, 187, ..."
      ]
     },
     "execution_count": 191,
     "metadata": {},
     "output_type": "execute_result"
    }
   ],
   "source": [
    "df.head()"
   ]
  },
  {
   "cell_type": "code",
   "execution_count": 192,
   "metadata": {},
   "outputs": [],
   "source": [
    "df = df.merge(status, how='inner', left_on='cnum', right_on='cnum_')"
   ]
  },
  {
   "cell_type": "code",
   "execution_count": 193,
   "metadata": {},
   "outputs": [],
   "source": [
    "df = df[['cnum', 'mcc', 'married_']]"
   ]
  },
  {
   "cell_type": "code",
   "execution_count": 194,
   "metadata": {},
   "outputs": [
    {
     "data": {
      "text/html": [
       "<div>\n",
       "<style scoped>\n",
       "    .dataframe tbody tr th:only-of-type {\n",
       "        vertical-align: middle;\n",
       "    }\n",
       "\n",
       "    .dataframe tbody tr th {\n",
       "        vertical-align: top;\n",
       "    }\n",
       "\n",
       "    .dataframe thead th {\n",
       "        text-align: right;\n",
       "    }\n",
       "</style>\n",
       "<table border=\"1\" class=\"dataframe\">\n",
       "  <thead>\n",
       "    <tr style=\"text-align: right;\">\n",
       "      <th></th>\n",
       "      <th>cnum</th>\n",
       "      <th>mcc</th>\n",
       "      <th>married_</th>\n",
       "    </tr>\n",
       "  </thead>\n",
       "  <tbody>\n",
       "    <tr>\n",
       "      <th>0</th>\n",
       "      <td>0CCCDO</td>\n",
       "      <td>[269, 187, 166, 282, 212, 282, 208, 269, 187, ...</td>\n",
       "      <td>not_married</td>\n",
       "    </tr>\n",
       "    <tr>\n",
       "      <th>1</th>\n",
       "      <td>0CCCFO</td>\n",
       "      <td>[281, 281, 281, 281]</td>\n",
       "      <td>not_married</td>\n",
       "    </tr>\n",
       "    <tr>\n",
       "      <th>2</th>\n",
       "      <td>0CCCGC</td>\n",
       "      <td>[187, 192, 187, 198, 127, 231, 231, 229, 187, ...</td>\n",
       "      <td>married</td>\n",
       "    </tr>\n",
       "    <tr>\n",
       "      <th>3</th>\n",
       "      <td>0CCCGG</td>\n",
       "      <td>[187, 198, 187, 198, 127, 187, 187, 198, 187, ...</td>\n",
       "      <td>not_married</td>\n",
       "    </tr>\n",
       "    <tr>\n",
       "      <th>4</th>\n",
       "      <td>0CCCGO</td>\n",
       "      <td>[187, 187, 130, 130, 236, 187, 231, 231, 187, ...</td>\n",
       "      <td>married</td>\n",
       "    </tr>\n",
       "  </tbody>\n",
       "</table>\n",
       "</div>"
      ],
      "text/plain": [
       "     cnum                                                mcc     married_\n",
       "0  0CCCDO  [269, 187, 166, 282, 212, 282, 208, 269, 187, ...  not_married\n",
       "1  0CCCFO                               [281, 281, 281, 281]  not_married\n",
       "2  0CCCGC  [187, 192, 187, 198, 127, 231, 231, 229, 187, ...      married\n",
       "3  0CCCGG  [187, 198, 187, 198, 127, 187, 187, 198, 187, ...  not_married\n",
       "4  0CCCGO  [187, 187, 130, 130, 236, 187, 231, 231, 187, ...      married"
      ]
     },
     "execution_count": 194,
     "metadata": {},
     "output_type": "execute_result"
    }
   ],
   "source": [
    "df.head()"
   ]
  },
  {
   "cell_type": "code",
   "execution_count": 195,
   "metadata": {},
   "outputs": [],
   "source": [
    "df['married_'] = df['married_'].map({'not_married': 0, 'married': 1})"
   ]
  },
  {
   "cell_type": "code",
   "execution_count": 196,
   "metadata": {},
   "outputs": [
    {
     "data": {
      "text/html": [
       "<div>\n",
       "<style scoped>\n",
       "    .dataframe tbody tr th:only-of-type {\n",
       "        vertical-align: middle;\n",
       "    }\n",
       "\n",
       "    .dataframe tbody tr th {\n",
       "        vertical-align: top;\n",
       "    }\n",
       "\n",
       "    .dataframe thead th {\n",
       "        text-align: right;\n",
       "    }\n",
       "</style>\n",
       "<table border=\"1\" class=\"dataframe\">\n",
       "  <thead>\n",
       "    <tr style=\"text-align: right;\">\n",
       "      <th></th>\n",
       "      <th>cnum</th>\n",
       "      <th>mcc</th>\n",
       "      <th>married_</th>\n",
       "    </tr>\n",
       "  </thead>\n",
       "  <tbody>\n",
       "    <tr>\n",
       "      <th>0</th>\n",
       "      <td>0CCCDO</td>\n",
       "      <td>[269, 187, 166, 282, 212, 282, 208, 269, 187, ...</td>\n",
       "      <td>0</td>\n",
       "    </tr>\n",
       "    <tr>\n",
       "      <th>1</th>\n",
       "      <td>0CCCFO</td>\n",
       "      <td>[281, 281, 281, 281]</td>\n",
       "      <td>0</td>\n",
       "    </tr>\n",
       "    <tr>\n",
       "      <th>2</th>\n",
       "      <td>0CCCGC</td>\n",
       "      <td>[187, 192, 187, 198, 127, 231, 231, 229, 187, ...</td>\n",
       "      <td>1</td>\n",
       "    </tr>\n",
       "    <tr>\n",
       "      <th>3</th>\n",
       "      <td>0CCCGG</td>\n",
       "      <td>[187, 198, 187, 198, 127, 187, 187, 198, 187, ...</td>\n",
       "      <td>0</td>\n",
       "    </tr>\n",
       "    <tr>\n",
       "      <th>4</th>\n",
       "      <td>0CCCGO</td>\n",
       "      <td>[187, 187, 130, 130, 236, 187, 231, 231, 187, ...</td>\n",
       "      <td>1</td>\n",
       "    </tr>\n",
       "  </tbody>\n",
       "</table>\n",
       "</div>"
      ],
      "text/plain": [
       "     cnum                                                mcc  married_\n",
       "0  0CCCDO  [269, 187, 166, 282, 212, 282, 208, 269, 187, ...         0\n",
       "1  0CCCFO                               [281, 281, 281, 281]         0\n",
       "2  0CCCGC  [187, 192, 187, 198, 127, 231, 231, 229, 187, ...         1\n",
       "3  0CCCGG  [187, 198, 187, 198, 127, 187, 187, 198, 187, ...         0\n",
       "4  0CCCGO  [187, 187, 130, 130, 236, 187, 231, 231, 187, ...         1"
      ]
     },
     "execution_count": 196,
     "metadata": {},
     "output_type": "execute_result"
    }
   ],
   "source": [
    "df.head()"
   ]
  },
  {
   "cell_type": "code",
   "execution_count": 197,
   "metadata": {},
   "outputs": [
    {
     "data": {
      "text/plain": [
       "(1355925, 3)"
      ]
     },
     "execution_count": 197,
     "metadata": {},
     "output_type": "execute_result"
    }
   ],
   "source": [
    "df.shape"
   ]
  },
  {
   "cell_type": "code",
   "execution_count": 198,
   "metadata": {},
   "outputs": [],
   "source": [
    "all_l = []\n",
    "for i in range(len(df)):\n",
    "    all_l.append(len(df.loc[i, 'mcc']))"
   ]
  },
  {
   "cell_type": "code",
   "execution_count": 199,
   "metadata": {},
   "outputs": [
    {
     "data": {
      "text/plain": [
       "36.0"
      ]
     },
     "execution_count": 199,
     "metadata": {},
     "output_type": "execute_result"
    }
   ],
   "source": [
    "np.median(all_l)"
   ]
  },
  {
   "cell_type": "code",
   "execution_count": 200,
   "metadata": {},
   "outputs": [
    {
     "data": {
      "text/plain": [
       "2690"
      ]
     },
     "execution_count": 200,
     "metadata": {},
     "output_type": "execute_result"
    }
   ],
   "source": [
    "np.max(all_l)"
   ]
  },
  {
   "cell_type": "code",
   "execution_count": 201,
   "metadata": {},
   "outputs": [
    {
     "data": {
      "text/plain": [
       "12.0"
      ]
     },
     "execution_count": 201,
     "metadata": {},
     "output_type": "execute_result"
    }
   ],
   "source": [
    "np.quantile(all_l, 0.3)"
   ]
  },
  {
   "cell_type": "code",
   "execution_count": 202,
   "metadata": {},
   "outputs": [],
   "source": [
    "df = df.loc[df['mcc'].apply(lambda x: len(x)) >= 10]"
   ]
  },
  {
   "cell_type": "code",
   "execution_count": 203,
   "metadata": {},
   "outputs": [
    {
     "data": {
      "text/plain": [
       "(993528, 3)"
      ]
     },
     "execution_count": 203,
     "metadata": {},
     "output_type": "execute_result"
    }
   ],
   "source": [
    "df.shape"
   ]
  },
  {
   "cell_type": "code",
   "execution_count": 204,
   "metadata": {},
   "outputs": [
    {
     "data": {
      "text/html": [
       "<div>\n",
       "<style scoped>\n",
       "    .dataframe tbody tr th:only-of-type {\n",
       "        vertical-align: middle;\n",
       "    }\n",
       "\n",
       "    .dataframe tbody tr th {\n",
       "        vertical-align: top;\n",
       "    }\n",
       "\n",
       "    .dataframe thead th {\n",
       "        text-align: right;\n",
       "    }\n",
       "</style>\n",
       "<table border=\"1\" class=\"dataframe\">\n",
       "  <thead>\n",
       "    <tr style=\"text-align: right;\">\n",
       "      <th></th>\n",
       "      <th>cnum</th>\n",
       "      <th>mcc</th>\n",
       "      <th>married_</th>\n",
       "    </tr>\n",
       "  </thead>\n",
       "  <tbody>\n",
       "    <tr>\n",
       "      <th>0</th>\n",
       "      <td>0CCCDO</td>\n",
       "      <td>[269, 187, 166, 282, 212, 282, 208, 269, 187, ...</td>\n",
       "      <td>0</td>\n",
       "    </tr>\n",
       "    <tr>\n",
       "      <th>2</th>\n",
       "      <td>0CCCGC</td>\n",
       "      <td>[187, 192, 187, 198, 127, 231, 231, 229, 187, ...</td>\n",
       "      <td>1</td>\n",
       "    </tr>\n",
       "    <tr>\n",
       "      <th>3</th>\n",
       "      <td>0CCCGG</td>\n",
       "      <td>[187, 198, 187, 198, 127, 187, 187, 198, 187, ...</td>\n",
       "      <td>0</td>\n",
       "    </tr>\n",
       "    <tr>\n",
       "      <th>4</th>\n",
       "      <td>0CCCGO</td>\n",
       "      <td>[187, 187, 130, 130, 236, 187, 231, 231, 187, ...</td>\n",
       "      <td>1</td>\n",
       "    </tr>\n",
       "    <tr>\n",
       "      <th>5</th>\n",
       "      <td>0CCCGS</td>\n",
       "      <td>[187, 187, 187, 130, 325, 229, 359, 187, 127, ...</td>\n",
       "      <td>0</td>\n",
       "    </tr>\n",
       "  </tbody>\n",
       "</table>\n",
       "</div>"
      ],
      "text/plain": [
       "     cnum                                                mcc  married_\n",
       "0  0CCCDO  [269, 187, 166, 282, 212, 282, 208, 269, 187, ...         0\n",
       "2  0CCCGC  [187, 192, 187, 198, 127, 231, 231, 229, 187, ...         1\n",
       "3  0CCCGG  [187, 198, 187, 198, 127, 187, 187, 198, 187, ...         0\n",
       "4  0CCCGO  [187, 187, 130, 130, 236, 187, 231, 231, 187, ...         1\n",
       "5  0CCCGS  [187, 187, 187, 130, 325, 229, 359, 187, 127, ...         0"
      ]
     },
     "execution_count": 204,
     "metadata": {},
     "output_type": "execute_result"
    }
   ],
   "source": [
    "df.head()"
   ]
  },
  {
   "cell_type": "code",
   "execution_count": 205,
   "metadata": {},
   "outputs": [],
   "source": [
    "df['mcc'] = df['mcc'].apply(lambda x: x[-200:])"
   ]
  },
  {
   "cell_type": "code",
   "execution_count": 206,
   "metadata": {},
   "outputs": [
    {
     "data": {
      "text/html": [
       "<div>\n",
       "<style scoped>\n",
       "    .dataframe tbody tr th:only-of-type {\n",
       "        vertical-align: middle;\n",
       "    }\n",
       "\n",
       "    .dataframe tbody tr th {\n",
       "        vertical-align: top;\n",
       "    }\n",
       "\n",
       "    .dataframe thead th {\n",
       "        text-align: right;\n",
       "    }\n",
       "</style>\n",
       "<table border=\"1\" class=\"dataframe\">\n",
       "  <thead>\n",
       "    <tr style=\"text-align: right;\">\n",
       "      <th></th>\n",
       "      <th>cnum</th>\n",
       "      <th>mcc</th>\n",
       "      <th>married_</th>\n",
       "    </tr>\n",
       "  </thead>\n",
       "  <tbody>\n",
       "    <tr>\n",
       "      <th>0</th>\n",
       "      <td>0CCCDO</td>\n",
       "      <td>[269, 187, 166, 282, 212, 282, 208, 269, 187, ...</td>\n",
       "      <td>0</td>\n",
       "    </tr>\n",
       "    <tr>\n",
       "      <th>2</th>\n",
       "      <td>0CCCGC</td>\n",
       "      <td>[187, 192, 187, 198, 127, 231, 231, 229, 187, ...</td>\n",
       "      <td>1</td>\n",
       "    </tr>\n",
       "    <tr>\n",
       "      <th>3</th>\n",
       "      <td>0CCCGG</td>\n",
       "      <td>[187, 198, 187, 198, 127, 187, 187, 198, 187, ...</td>\n",
       "      <td>0</td>\n",
       "    </tr>\n",
       "    <tr>\n",
       "      <th>4</th>\n",
       "      <td>0CCCGO</td>\n",
       "      <td>[131, 231, 187, 231, 231, 231, 187, 231, 231, ...</td>\n",
       "      <td>1</td>\n",
       "    </tr>\n",
       "    <tr>\n",
       "      <th>5</th>\n",
       "      <td>0CCCGS</td>\n",
       "      <td>[289, 229, 325, 128, 130, 130, 130, 187, 192, ...</td>\n",
       "      <td>0</td>\n",
       "    </tr>\n",
       "  </tbody>\n",
       "</table>\n",
       "</div>"
      ],
      "text/plain": [
       "     cnum                                                mcc  married_\n",
       "0  0CCCDO  [269, 187, 166, 282, 212, 282, 208, 269, 187, ...         0\n",
       "2  0CCCGC  [187, 192, 187, 198, 127, 231, 231, 229, 187, ...         1\n",
       "3  0CCCGG  [187, 198, 187, 198, 127, 187, 187, 198, 187, ...         0\n",
       "4  0CCCGO  [131, 231, 187, 231, 231, 231, 187, 231, 231, ...         1\n",
       "5  0CCCGS  [289, 229, 325, 128, 130, 130, 130, 187, 192, ...         0"
      ]
     },
     "execution_count": 206,
     "metadata": {},
     "output_type": "execute_result"
    }
   ],
   "source": [
    "df.head()"
   ]
  },
  {
   "cell_type": "code",
   "execution_count": 207,
   "metadata": {},
   "outputs": [],
   "source": [
    "df.rename({'cnum': 'id', 'married_': 'target'}, axis=1, inplace=True)"
   ]
  },
  {
   "cell_type": "code",
   "execution_count": 208,
   "metadata": {},
   "outputs": [
    {
     "data": {
      "text/html": [
       "<div>\n",
       "<style scoped>\n",
       "    .dataframe tbody tr th:only-of-type {\n",
       "        vertical-align: middle;\n",
       "    }\n",
       "\n",
       "    .dataframe tbody tr th {\n",
       "        vertical-align: top;\n",
       "    }\n",
       "\n",
       "    .dataframe thead th {\n",
       "        text-align: right;\n",
       "    }\n",
       "</style>\n",
       "<table border=\"1\" class=\"dataframe\">\n",
       "  <thead>\n",
       "    <tr style=\"text-align: right;\">\n",
       "      <th></th>\n",
       "      <th>id</th>\n",
       "      <th>mcc</th>\n",
       "      <th>target</th>\n",
       "    </tr>\n",
       "  </thead>\n",
       "  <tbody>\n",
       "    <tr>\n",
       "      <th>0</th>\n",
       "      <td>0CCCDO</td>\n",
       "      <td>[269, 187, 166, 282, 212, 282, 208, 269, 187, ...</td>\n",
       "      <td>0</td>\n",
       "    </tr>\n",
       "    <tr>\n",
       "      <th>2</th>\n",
       "      <td>0CCCGC</td>\n",
       "      <td>[187, 192, 187, 198, 127, 231, 231, 229, 187, ...</td>\n",
       "      <td>1</td>\n",
       "    </tr>\n",
       "    <tr>\n",
       "      <th>3</th>\n",
       "      <td>0CCCGG</td>\n",
       "      <td>[187, 198, 187, 198, 127, 187, 187, 198, 187, ...</td>\n",
       "      <td>0</td>\n",
       "    </tr>\n",
       "    <tr>\n",
       "      <th>4</th>\n",
       "      <td>0CCCGO</td>\n",
       "      <td>[131, 231, 187, 231, 231, 231, 187, 231, 231, ...</td>\n",
       "      <td>1</td>\n",
       "    </tr>\n",
       "    <tr>\n",
       "      <th>5</th>\n",
       "      <td>0CCCGS</td>\n",
       "      <td>[289, 229, 325, 128, 130, 130, 130, 187, 192, ...</td>\n",
       "      <td>0</td>\n",
       "    </tr>\n",
       "  </tbody>\n",
       "</table>\n",
       "</div>"
      ],
      "text/plain": [
       "       id                                                mcc  target\n",
       "0  0CCCDO  [269, 187, 166, 282, 212, 282, 208, 269, 187, ...       0\n",
       "2  0CCCGC  [187, 192, 187, 198, 127, 231, 231, 229, 187, ...       1\n",
       "3  0CCCGG  [187, 198, 187, 198, 127, 187, 187, 198, 187, ...       0\n",
       "4  0CCCGO  [131, 231, 187, 231, 231, 231, 187, 231, 231, ...       1\n",
       "5  0CCCGS  [289, 229, 325, 128, 130, 130, 130, 187, 192, ...       0"
      ]
     },
     "execution_count": 208,
     "metadata": {},
     "output_type": "execute_result"
    }
   ],
   "source": [
    "df.head()"
   ]
  },
  {
   "cell_type": "code",
   "execution_count": 209,
   "metadata": {},
   "outputs": [
    {
     "data": {
      "text/plain": [
       "0    632738\n",
       "1    360790\n",
       "Name: target, dtype: int64"
      ]
     },
     "execution_count": 209,
     "metadata": {},
     "output_type": "execute_result"
    }
   ],
   "source": [
    "df['target'].value_counts()"
   ]
  },
  {
   "cell_type": "code",
   "execution_count": 210,
   "metadata": {},
   "outputs": [],
   "source": [
    "zero_id = df.loc[df['target']==0]['id']"
   ]
  },
  {
   "cell_type": "code",
   "execution_count": 211,
   "metadata": {},
   "outputs": [],
   "source": [
    "one_id = df.loc[df['target']==1]['id']"
   ]
  },
  {
   "cell_type": "code",
   "execution_count": 212,
   "metadata": {},
   "outputs": [],
   "source": [
    "reduced_zero_id = np.random.choice(zero_id, size=len(df.loc[df['target']==1]), replace=False)"
   ]
  },
  {
   "cell_type": "code",
   "execution_count": 213,
   "metadata": {},
   "outputs": [],
   "source": [
    "df = df.loc[df['id'].isin(list(one_id)+list(reduced_zero_id))]"
   ]
  },
  {
   "cell_type": "code",
   "execution_count": 214,
   "metadata": {},
   "outputs": [
    {
     "data": {
      "text/html": [
       "<div>\n",
       "<style scoped>\n",
       "    .dataframe tbody tr th:only-of-type {\n",
       "        vertical-align: middle;\n",
       "    }\n",
       "\n",
       "    .dataframe tbody tr th {\n",
       "        vertical-align: top;\n",
       "    }\n",
       "\n",
       "    .dataframe thead th {\n",
       "        text-align: right;\n",
       "    }\n",
       "</style>\n",
       "<table border=\"1\" class=\"dataframe\">\n",
       "  <thead>\n",
       "    <tr style=\"text-align: right;\">\n",
       "      <th></th>\n",
       "      <th>id</th>\n",
       "      <th>mcc</th>\n",
       "      <th>target</th>\n",
       "    </tr>\n",
       "  </thead>\n",
       "  <tbody>\n",
       "    <tr>\n",
       "      <th>0</th>\n",
       "      <td>0CCCDO</td>\n",
       "      <td>[269, 187, 166, 282, 212, 282, 208, 269, 187, ...</td>\n",
       "      <td>0</td>\n",
       "    </tr>\n",
       "    <tr>\n",
       "      <th>2</th>\n",
       "      <td>0CCCGC</td>\n",
       "      <td>[187, 192, 187, 198, 127, 231, 231, 229, 187, ...</td>\n",
       "      <td>1</td>\n",
       "    </tr>\n",
       "    <tr>\n",
       "      <th>4</th>\n",
       "      <td>0CCCGO</td>\n",
       "      <td>[131, 231, 187, 231, 231, 231, 187, 231, 231, ...</td>\n",
       "      <td>1</td>\n",
       "    </tr>\n",
       "    <tr>\n",
       "      <th>5</th>\n",
       "      <td>0CCCGS</td>\n",
       "      <td>[289, 229, 325, 128, 130, 130, 130, 187, 192, ...</td>\n",
       "      <td>0</td>\n",
       "    </tr>\n",
       "    <tr>\n",
       "      <th>6</th>\n",
       "      <td>0CCCHG</td>\n",
       "      <td>[370, 214, 187, 187, 187, 229, 187, 187, 130, ...</td>\n",
       "      <td>1</td>\n",
       "    </tr>\n",
       "  </tbody>\n",
       "</table>\n",
       "</div>"
      ],
      "text/plain": [
       "       id                                                mcc  target\n",
       "0  0CCCDO  [269, 187, 166, 282, 212, 282, 208, 269, 187, ...       0\n",
       "2  0CCCGC  [187, 192, 187, 198, 127, 231, 231, 229, 187, ...       1\n",
       "4  0CCCGO  [131, 231, 187, 231, 231, 231, 187, 231, 231, ...       1\n",
       "5  0CCCGS  [289, 229, 325, 128, 130, 130, 130, 187, 192, ...       0\n",
       "6  0CCCHG  [370, 214, 187, 187, 187, 229, 187, 187, 130, ...       1"
      ]
     },
     "execution_count": 214,
     "metadata": {},
     "output_type": "execute_result"
    }
   ],
   "source": [
    "df.head()"
   ]
  },
  {
   "cell_type": "code",
   "execution_count": 215,
   "metadata": {},
   "outputs": [],
   "source": [
    "df.reset_index(inplace=True, drop=True)"
   ]
  },
  {
   "cell_type": "code",
   "execution_count": 216,
   "metadata": {},
   "outputs": [
    {
     "data": {
      "text/plain": [
       "50.0"
      ]
     },
     "execution_count": 216,
     "metadata": {},
     "output_type": "execute_result"
    }
   ],
   "source": [
    "df['target'].sum() / len(df) * 100"
   ]
  },
  {
   "cell_type": "code",
   "execution_count": 217,
   "metadata": {},
   "outputs": [],
   "source": [
    "df = df.sample(frac=1).reset_index(drop=True)"
   ]
  },
  {
   "cell_type": "code",
   "execution_count": 218,
   "metadata": {},
   "outputs": [
    {
     "data": {
      "text/plain": [
       "(721580, 3)"
      ]
     },
     "execution_count": 218,
     "metadata": {},
     "output_type": "execute_result"
    }
   ],
   "source": [
    "df.shape"
   ]
  },
  {
   "cell_type": "code",
   "execution_count": 219,
   "metadata": {},
   "outputs": [
    {
     "data": {
      "text/html": [
       "<div>\n",
       "<style scoped>\n",
       "    .dataframe tbody tr th:only-of-type {\n",
       "        vertical-align: middle;\n",
       "    }\n",
       "\n",
       "    .dataframe tbody tr th {\n",
       "        vertical-align: top;\n",
       "    }\n",
       "\n",
       "    .dataframe thead th {\n",
       "        text-align: right;\n",
       "    }\n",
       "</style>\n",
       "<table border=\"1\" class=\"dataframe\">\n",
       "  <thead>\n",
       "    <tr style=\"text-align: right;\">\n",
       "      <th></th>\n",
       "      <th>id</th>\n",
       "      <th>mcc</th>\n",
       "      <th>target</th>\n",
       "    </tr>\n",
       "  </thead>\n",
       "  <tbody>\n",
       "    <tr>\n",
       "      <th>0</th>\n",
       "      <td>EXCSSG</td>\n",
       "      <td>[184, 185, 187, 236, 175, 187, 187, 236, 236, ...</td>\n",
       "      <td>0</td>\n",
       "    </tr>\n",
       "    <tr>\n",
       "      <th>1</th>\n",
       "      <td>8E4SUG</td>\n",
       "      <td>[187, 231, 187, 187, 185, 231, 187, 231, 187, ...</td>\n",
       "      <td>0</td>\n",
       "    </tr>\n",
       "    <tr>\n",
       "      <th>2</th>\n",
       "      <td>RTPLNJ</td>\n",
       "      <td>[198, 192, 231, 282, 198, 282, 236, 231, 231, ...</td>\n",
       "      <td>1</td>\n",
       "    </tr>\n",
       "    <tr>\n",
       "      <th>3</th>\n",
       "      <td>TMKMKL</td>\n",
       "      <td>[281, 281, 187, 187, 279, 187, 187, 187, 187, ...</td>\n",
       "      <td>1</td>\n",
       "    </tr>\n",
       "    <tr>\n",
       "      <th>4</th>\n",
       "      <td>4HDXOX</td>\n",
       "      <td>[187, 192, 223, 365, 365, 192, 192, 187, 187, ...</td>\n",
       "      <td>0</td>\n",
       "    </tr>\n",
       "  </tbody>\n",
       "</table>\n",
       "</div>"
      ],
      "text/plain": [
       "       id                                                mcc  target\n",
       "0  EXCSSG  [184, 185, 187, 236, 175, 187, 187, 236, 236, ...       0\n",
       "1  8E4SUG  [187, 231, 187, 187, 185, 231, 187, 231, 187, ...       0\n",
       "2  RTPLNJ  [198, 192, 231, 282, 198, 282, 236, 231, 231, ...       1\n",
       "3  TMKMKL  [281, 281, 187, 187, 279, 187, 187, 187, 187, ...       1\n",
       "4  4HDXOX  [187, 192, 223, 365, 365, 192, 192, 187, 187, ...       0"
      ]
     },
     "execution_count": 219,
     "metadata": {},
     "output_type": "execute_result"
    }
   ],
   "source": [
    "df.head()"
   ]
  },
  {
   "cell_type": "code",
   "execution_count": 220,
   "metadata": {},
   "outputs": [
    {
     "data": {
      "text/plain": [
       "0.5"
      ]
     },
     "execution_count": 220,
     "metadata": {},
     "output_type": "execute_result"
    }
   ],
   "source": [
    "df['target'].sum() / len(df)"
   ]
  },
  {
   "cell_type": "markdown",
   "metadata": {},
   "source": [
    "### Train-valid-test split"
   ]
  },
  {
   "cell_type": "code",
   "execution_count": 221,
   "metadata": {},
   "outputs": [],
   "source": [
    "all_id = df['id'].values"
   ]
  },
  {
   "cell_type": "code",
   "execution_count": 222,
   "metadata": {},
   "outputs": [],
   "source": [
    "train_id = all_id[:int(0.7 * len(all_id))]\n",
    "valid_id = all_id[int(0.7 * len(all_id)):int(0.8 * len(all_id))]\n",
    "test_id = all_id[int(0.8 * len(all_id)):]"
   ]
  },
  {
   "cell_type": "code",
   "execution_count": 223,
   "metadata": {},
   "outputs": [],
   "source": [
    "train_df = df.loc[df['id'].isin(train_id)]\n",
    "valid_df = df.loc[df['id'].isin(valid_id)]\n",
    "test_df = df.loc[df['id'].isin(test_id)]"
   ]
  },
  {
   "cell_type": "code",
   "execution_count": 228,
   "metadata": {},
   "outputs": [
    {
     "data": {
      "text/plain": [
       "(0.4998030112550856, 0.49845480120289914, 0.5014620693478201)"
      ]
     },
     "execution_count": 228,
     "metadata": {},
     "output_type": "execute_result"
    }
   ],
   "source": [
    "train_df['target'].sum() / len(train_df), valid_df['target'].sum() / len(valid_df), \\\n",
    "test_df['target'].sum() / len(test_df)"
   ]
  },
  {
   "cell_type": "code",
   "execution_count": 224,
   "metadata": {},
   "outputs": [
    {
     "data": {
      "text/plain": [
       "(0.6999986141522769, 0.10000138584772306, 0.2)"
      ]
     },
     "execution_count": 224,
     "metadata": {},
     "output_type": "execute_result"
    }
   ],
   "source": [
    "len(train_id) / len(df), len(valid_id) / len(df), len(test_id) / len(df)"
   ]
  },
  {
   "cell_type": "code",
   "execution_count": 225,
   "metadata": {},
   "outputs": [],
   "source": [
    "train_df.reset_index(inplace=True, drop=True)\n",
    "valid_df.reset_index(inplace=True, drop=True)\n",
    "test_df.reset_index(inplace=True, drop=True)"
   ]
  },
  {
   "cell_type": "code",
   "execution_count": 226,
   "metadata": {},
   "outputs": [
    {
     "name": "stdout",
     "output_type": "stream",
     "text": [
      "/notebook/poison/poisonattack/DataPreprocessing\r\n"
     ]
    }
   ],
   "source": [
    "!pwd"
   ]
  },
  {
   "cell_type": "code",
   "execution_count": 227,
   "metadata": {},
   "outputs": [],
   "source": [
    "train_df.to_csv('../../data/processed_raif/train.csv')\n",
    "valid_df.to_csv('../../data/processed_raif/valid.csv')\n",
    "test_df.to_csv('../../data/processed_raif/test.csv')"
   ]
  },
  {
   "cell_type": "code",
   "execution_count": null,
   "metadata": {},
   "outputs": [],
   "source": []
  }
 ],
 "metadata": {
  "kernelspec": {
   "display_name": "Python 3",
   "language": "python",
   "name": "python3"
  },
  "language_info": {
   "codemirror_mode": {
    "name": "ipython",
    "version": 3
   },
   "file_extension": ".py",
   "mimetype": "text/x-python",
   "name": "python",
   "nbconvert_exporter": "python",
   "pygments_lexer": "ipython3",
   "version": "3.6.9"
  }
 },
 "nbformat": 4,
 "nbformat_minor": 4
}
