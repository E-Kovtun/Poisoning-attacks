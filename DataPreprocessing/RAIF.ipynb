{
 "cells": [
  {
   "cell_type": "code",
   "execution_count": 22,
   "metadata": {},
   "outputs": [],
   "source": [
    "import pandas as pd\n",
    "import numpy as np\n",
    "import matplotlib.pyplot as plt\n",
    "import os\n",
    "from sklearn.preprocessing import LabelEncoder\n",
    "import collections"
   ]
  },
  {
   "cell_type": "code",
   "execution_count": 23,
   "metadata": {},
   "outputs": [],
   "source": [
    "data_folder = '../../data/raif/'"
   ]
  },
  {
   "cell_type": "code",
   "execution_count": 24,
   "metadata": {},
   "outputs": [],
   "source": [
    "data = pd.read_csv(os.path.join(data_folder, 'transactions_last_2.csv'), delimiter=';')"
   ]
  },
  {
   "cell_type": "code",
   "execution_count": 25,
   "metadata": {},
   "outputs": [
    {
     "data": {
      "text/html": [
       "<div>\n",
       "<style scoped>\n",
       "    .dataframe tbody tr th:only-of-type {\n",
       "        vertical-align: middle;\n",
       "    }\n",
       "\n",
       "    .dataframe tbody tr th {\n",
       "        vertical-align: top;\n",
       "    }\n",
       "\n",
       "    .dataframe thead th {\n",
       "        text-align: right;\n",
       "    }\n",
       "</style>\n",
       "<table border=\"1\" class=\"dataframe\">\n",
       "  <thead>\n",
       "    <tr style=\"text-align: right;\">\n",
       "      <th></th>\n",
       "      <th>purchdate</th>\n",
       "      <th>amount</th>\n",
       "      <th>mcc</th>\n",
       "      <th>mrchcity</th>\n",
       "      <th>mrchname</th>\n",
       "      <th>cnum</th>\n",
       "    </tr>\n",
       "  </thead>\n",
       "  <tbody>\n",
       "    <tr>\n",
       "      <th>0</th>\n",
       "      <td>2019-11-02 00:00:00</td>\n",
       "      <td>9000000.0</td>\n",
       "      <td>5691</td>\n",
       "      <td>MOSCOW</td>\n",
       "      <td>IA7D1H Z1D1T7</td>\n",
       "      <td>MJNLMQ</td>\n",
       "    </tr>\n",
       "    <tr>\n",
       "      <th>1</th>\n",
       "      <td>2019-11-02 00:00:00</td>\n",
       "      <td>9000000.0</td>\n",
       "      <td>5691</td>\n",
       "      <td>MOSCOW</td>\n",
       "      <td>IA7D1H Z1D1T7</td>\n",
       "      <td>MJNLMQ</td>\n",
       "    </tr>\n",
       "    <tr>\n",
       "      <th>2</th>\n",
       "      <td>2019-10-25 00:00:00</td>\n",
       "      <td>7716900.0</td>\n",
       "      <td>5691</td>\n",
       "      <td>MOSCOW</td>\n",
       "      <td>HXL4K TL4EEXD</td>\n",
       "      <td>ELETCO</td>\n",
       "    </tr>\n",
       "    <tr>\n",
       "      <th>3</th>\n",
       "      <td>2019-11-29 00:00:00</td>\n",
       "      <td>5100000.0</td>\n",
       "      <td>6513</td>\n",
       "      <td>SANKT-PETERBU</td>\n",
       "      <td>7X 1E7HXD H1DKW1IKCL</td>\n",
       "      <td>EL0KSF</td>\n",
       "    </tr>\n",
       "    <tr>\n",
       "      <th>4</th>\n",
       "      <td>2019-12-03 00:00:00</td>\n",
       "      <td>5023956.6</td>\n",
       "      <td>5944</td>\n",
       "      <td>MOSKVA</td>\n",
       "      <td>73 7HJXK7 (W7X)</td>\n",
       "      <td>MPKIJJ</td>\n",
       "    </tr>\n",
       "  </tbody>\n",
       "</table>\n",
       "</div>"
      ],
      "text/plain": [
       "             purchdate     amount   mcc       mrchcity              mrchname  \\\n",
       "0  2019-11-02 00:00:00  9000000.0  5691         MOSCOW         IA7D1H Z1D1T7   \n",
       "1  2019-11-02 00:00:00  9000000.0  5691         MOSCOW         IA7D1H Z1D1T7   \n",
       "2  2019-10-25 00:00:00  7716900.0  5691         MOSCOW         HXL4K TL4EEXD   \n",
       "3  2019-11-29 00:00:00  5100000.0  6513  SANKT-PETERBU  7X 1E7HXD H1DKW1IKCL   \n",
       "4  2019-12-03 00:00:00  5023956.6  5944         MOSKVA       73 7HJXK7 (W7X)   \n",
       "\n",
       "     cnum  \n",
       "0  MJNLMQ  \n",
       "1  MJNLMQ  \n",
       "2  ELETCO  \n",
       "3  EL0KSF  \n",
       "4  MPKIJJ  "
      ]
     },
     "execution_count": 25,
     "metadata": {},
     "output_type": "execute_result"
    }
   ],
   "source": [
    "data.head()"
   ]
  },
  {
   "cell_type": "code",
   "execution_count": 26,
   "metadata": {},
   "outputs": [
    {
     "data": {
      "text/plain": [
       "(104161408, 6)"
      ]
     },
     "execution_count": 26,
     "metadata": {},
     "output_type": "execute_result"
    }
   ],
   "source": [
    "data.shape"
   ]
  },
  {
   "cell_type": "code",
   "execution_count": 27,
   "metadata": {},
   "outputs": [
    {
     "data": {
      "text/plain": [
       "1355925"
      ]
     },
     "execution_count": 27,
     "metadata": {},
     "output_type": "execute_result"
    }
   ],
   "source": [
    "data['cnum'].nunique()"
   ]
  },
  {
   "cell_type": "code",
   "execution_count": 28,
   "metadata": {},
   "outputs": [],
   "source": [
    "status =  pd.read_csv(os.path.join(data_folder, 'clients_last_2_fixed.csv'), delimiter=';')"
   ]
  },
  {
   "cell_type": "code",
   "execution_count": 29,
   "metadata": {},
   "outputs": [
    {
     "data": {
      "text/html": [
       "<div>\n",
       "<style scoped>\n",
       "    .dataframe tbody tr th:only-of-type {\n",
       "        vertical-align: middle;\n",
       "    }\n",
       "\n",
       "    .dataframe tbody tr th {\n",
       "        vertical-align: top;\n",
       "    }\n",
       "\n",
       "    .dataframe thead th {\n",
       "        text-align: right;\n",
       "    }\n",
       "</style>\n",
       "<table border=\"1\" class=\"dataframe\">\n",
       "  <thead>\n",
       "    <tr style=\"text-align: right;\">\n",
       "      <th></th>\n",
       "      <th>cnum_</th>\n",
       "      <th>categorycode</th>\n",
       "      <th>gender</th>\n",
       "      <th>age</th>\n",
       "      <th>married_</th>\n",
       "      <th>residenttype</th>\n",
       "    </tr>\n",
       "  </thead>\n",
       "  <tbody>\n",
       "    <tr>\n",
       "      <th>0</th>\n",
       "      <td>0CCCDO</td>\n",
       "      <td>81</td>\n",
       "      <td>M</td>\n",
       "      <td>32</td>\n",
       "      <td>not_married</td>\n",
       "      <td>R</td>\n",
       "    </tr>\n",
       "    <tr>\n",
       "      <th>1</th>\n",
       "      <td>0CCCFO</td>\n",
       "      <td>70</td>\n",
       "      <td>F</td>\n",
       "      <td>42</td>\n",
       "      <td>not_married</td>\n",
       "      <td>R</td>\n",
       "    </tr>\n",
       "    <tr>\n",
       "      <th>2</th>\n",
       "      <td>0CCCGC</td>\n",
       "      <td>50</td>\n",
       "      <td>F</td>\n",
       "      <td>33</td>\n",
       "      <td>married</td>\n",
       "      <td>R</td>\n",
       "    </tr>\n",
       "    <tr>\n",
       "      <th>3</th>\n",
       "      <td>0CCCGG</td>\n",
       "      <td>70</td>\n",
       "      <td>M</td>\n",
       "      <td>58</td>\n",
       "      <td>not_married</td>\n",
       "      <td>R</td>\n",
       "    </tr>\n",
       "    <tr>\n",
       "      <th>4</th>\n",
       "      <td>0CCCGO</td>\n",
       "      <td>60</td>\n",
       "      <td>M</td>\n",
       "      <td>38</td>\n",
       "      <td>married</td>\n",
       "      <td>R</td>\n",
       "    </tr>\n",
       "  </tbody>\n",
       "</table>\n",
       "</div>"
      ],
      "text/plain": [
       "    cnum_  categorycode gender  age     married_ residenttype\n",
       "0  0CCCDO            81      M   32  not_married            R\n",
       "1  0CCCFO            70      F   42  not_married            R\n",
       "2  0CCCGC            50      F   33      married            R\n",
       "3  0CCCGG            70      M   58  not_married            R\n",
       "4  0CCCGO            60      M   38      married            R"
      ]
     },
     "execution_count": 29,
     "metadata": {},
     "output_type": "execute_result"
    }
   ],
   "source": [
    "status.head()"
   ]
  },
  {
   "cell_type": "code",
   "execution_count": 30,
   "metadata": {},
   "outputs": [
    {
     "data": {
      "text/plain": [
       "1355925"
      ]
     },
     "execution_count": 30,
     "metadata": {},
     "output_type": "execute_result"
    }
   ],
   "source": [
    "status['cnum_'].nunique()"
   ]
  },
  {
   "cell_type": "code",
   "execution_count": 31,
   "metadata": {},
   "outputs": [
    {
     "data": {
      "text/plain": [
       "array(['not_married', 'married'], dtype=object)"
      ]
     },
     "execution_count": 31,
     "metadata": {},
     "output_type": "execute_result"
    }
   ],
   "source": [
    "status['married_'].unique()"
   ]
  },
  {
   "cell_type": "markdown",
   "metadata": {},
   "source": [
    "### Balancing number of married / not_married id"
   ]
  },
  {
   "cell_type": "code",
   "execution_count": 32,
   "metadata": {},
   "outputs": [
    {
     "data": {
      "text/plain": [
       "not_married    64.433579\n",
       "married        35.566421\n",
       "Name: married_, dtype: float64"
      ]
     },
     "execution_count": 32,
     "metadata": {},
     "output_type": "execute_result"
    }
   ],
   "source": [
    "status['married_'].value_counts() / len(status) * 100"
   ]
  },
  {
   "cell_type": "code",
   "execution_count": 33,
   "metadata": {},
   "outputs": [
    {
     "data": {
      "text/plain": [
       "gender  married_   \n",
       "F       not_married    32.564117\n",
       "        married        14.673599\n",
       "M       not_married    31.869462\n",
       "        married        20.892822\n",
       "Name: married_, dtype: float64"
      ]
     },
     "execution_count": 33,
     "metadata": {},
     "output_type": "execute_result"
    }
   ],
   "source": [
    "status.groupby('gender')['married_'].value_counts() / len(status) * 100"
   ]
  },
  {
   "cell_type": "markdown",
   "metadata": {},
   "source": [
    "### Composing transaction histories for each id"
   ]
  },
  {
   "cell_type": "code",
   "execution_count": 34,
   "metadata": {},
   "outputs": [
    {
     "data": {
      "text/html": [
       "<div>\n",
       "<style scoped>\n",
       "    .dataframe tbody tr th:only-of-type {\n",
       "        vertical-align: middle;\n",
       "    }\n",
       "\n",
       "    .dataframe tbody tr th {\n",
       "        vertical-align: top;\n",
       "    }\n",
       "\n",
       "    .dataframe thead th {\n",
       "        text-align: right;\n",
       "    }\n",
       "</style>\n",
       "<table border=\"1\" class=\"dataframe\">\n",
       "  <thead>\n",
       "    <tr style=\"text-align: right;\">\n",
       "      <th></th>\n",
       "      <th>purchdate</th>\n",
       "      <th>amount</th>\n",
       "      <th>mcc</th>\n",
       "      <th>mrchcity</th>\n",
       "      <th>mrchname</th>\n",
       "      <th>cnum</th>\n",
       "    </tr>\n",
       "  </thead>\n",
       "  <tbody>\n",
       "    <tr>\n",
       "      <th>0</th>\n",
       "      <td>2019-11-02 00:00:00</td>\n",
       "      <td>9000000.0</td>\n",
       "      <td>5691</td>\n",
       "      <td>MOSCOW</td>\n",
       "      <td>IA7D1H Z1D1T7</td>\n",
       "      <td>MJNLMQ</td>\n",
       "    </tr>\n",
       "    <tr>\n",
       "      <th>1</th>\n",
       "      <td>2019-11-02 00:00:00</td>\n",
       "      <td>9000000.0</td>\n",
       "      <td>5691</td>\n",
       "      <td>MOSCOW</td>\n",
       "      <td>IA7D1H Z1D1T7</td>\n",
       "      <td>MJNLMQ</td>\n",
       "    </tr>\n",
       "    <tr>\n",
       "      <th>2</th>\n",
       "      <td>2019-10-25 00:00:00</td>\n",
       "      <td>7716900.0</td>\n",
       "      <td>5691</td>\n",
       "      <td>MOSCOW</td>\n",
       "      <td>HXL4K TL4EEXD</td>\n",
       "      <td>ELETCO</td>\n",
       "    </tr>\n",
       "    <tr>\n",
       "      <th>3</th>\n",
       "      <td>2019-11-29 00:00:00</td>\n",
       "      <td>5100000.0</td>\n",
       "      <td>6513</td>\n",
       "      <td>SANKT-PETERBU</td>\n",
       "      <td>7X 1E7HXD H1DKW1IKCL</td>\n",
       "      <td>EL0KSF</td>\n",
       "    </tr>\n",
       "    <tr>\n",
       "      <th>4</th>\n",
       "      <td>2019-12-03 00:00:00</td>\n",
       "      <td>5023956.6</td>\n",
       "      <td>5944</td>\n",
       "      <td>MOSKVA</td>\n",
       "      <td>73 7HJXK7 (W7X)</td>\n",
       "      <td>MPKIJJ</td>\n",
       "    </tr>\n",
       "  </tbody>\n",
       "</table>\n",
       "</div>"
      ],
      "text/plain": [
       "             purchdate     amount   mcc       mrchcity              mrchname  \\\n",
       "0  2019-11-02 00:00:00  9000000.0  5691         MOSCOW         IA7D1H Z1D1T7   \n",
       "1  2019-11-02 00:00:00  9000000.0  5691         MOSCOW         IA7D1H Z1D1T7   \n",
       "2  2019-10-25 00:00:00  7716900.0  5691         MOSCOW         HXL4K TL4EEXD   \n",
       "3  2019-11-29 00:00:00  5100000.0  6513  SANKT-PETERBU  7X 1E7HXD H1DKW1IKCL   \n",
       "4  2019-12-03 00:00:00  5023956.6  5944         MOSKVA       73 7HJXK7 (W7X)   \n",
       "\n",
       "     cnum  \n",
       "0  MJNLMQ  \n",
       "1  MJNLMQ  \n",
       "2  ELETCO  \n",
       "3  EL0KSF  \n",
       "4  MPKIJJ  "
      ]
     },
     "execution_count": 34,
     "metadata": {},
     "output_type": "execute_result"
    }
   ],
   "source": [
    "data.head()"
   ]
  },
  {
   "cell_type": "code",
   "execution_count": 35,
   "metadata": {},
   "outputs": [
    {
     "data": {
      "text/plain": [
       "394"
      ]
     },
     "execution_count": 35,
     "metadata": {},
     "output_type": "execute_result"
    }
   ],
   "source": [
    "data['mcc'].nunique()"
   ]
  },
  {
   "cell_type": "code",
   "execution_count": 36,
   "metadata": {},
   "outputs": [
    {
     "data": {
      "text/plain": [
       "(104161408, 6)"
      ]
     },
     "execution_count": 36,
     "metadata": {},
     "output_type": "execute_result"
    }
   ],
   "source": [
    "data.shape"
   ]
  },
  {
   "cell_type": "code",
   "execution_count": 37,
   "metadata": {},
   "outputs": [
    {
     "data": {
      "text/html": [
       "<div>\n",
       "<style scoped>\n",
       "    .dataframe tbody tr th:only-of-type {\n",
       "        vertical-align: middle;\n",
       "    }\n",
       "\n",
       "    .dataframe tbody tr th {\n",
       "        vertical-align: top;\n",
       "    }\n",
       "\n",
       "    .dataframe thead th {\n",
       "        text-align: right;\n",
       "    }\n",
       "</style>\n",
       "<table border=\"1\" class=\"dataframe\">\n",
       "  <thead>\n",
       "    <tr style=\"text-align: right;\">\n",
       "      <th></th>\n",
       "      <th>purchdate</th>\n",
       "      <th>amount</th>\n",
       "      <th>mcc</th>\n",
       "      <th>mrchcity</th>\n",
       "      <th>mrchname</th>\n",
       "      <th>cnum</th>\n",
       "    </tr>\n",
       "  </thead>\n",
       "  <tbody>\n",
       "    <tr>\n",
       "      <th>0</th>\n",
       "      <td>2019-11-02 00:00:00</td>\n",
       "      <td>9000000.0</td>\n",
       "      <td>5691</td>\n",
       "      <td>MOSCOW</td>\n",
       "      <td>IA7D1H Z1D1T7</td>\n",
       "      <td>MJNLMQ</td>\n",
       "    </tr>\n",
       "    <tr>\n",
       "      <th>1</th>\n",
       "      <td>2019-11-02 00:00:00</td>\n",
       "      <td>9000000.0</td>\n",
       "      <td>5691</td>\n",
       "      <td>MOSCOW</td>\n",
       "      <td>IA7D1H Z1D1T7</td>\n",
       "      <td>MJNLMQ</td>\n",
       "    </tr>\n",
       "    <tr>\n",
       "      <th>2</th>\n",
       "      <td>2019-10-25 00:00:00</td>\n",
       "      <td>7716900.0</td>\n",
       "      <td>5691</td>\n",
       "      <td>MOSCOW</td>\n",
       "      <td>HXL4K TL4EEXD</td>\n",
       "      <td>ELETCO</td>\n",
       "    </tr>\n",
       "    <tr>\n",
       "      <th>3</th>\n",
       "      <td>2019-11-29 00:00:00</td>\n",
       "      <td>5100000.0</td>\n",
       "      <td>6513</td>\n",
       "      <td>SANKT-PETERBU</td>\n",
       "      <td>7X 1E7HXD H1DKW1IKCL</td>\n",
       "      <td>EL0KSF</td>\n",
       "    </tr>\n",
       "    <tr>\n",
       "      <th>4</th>\n",
       "      <td>2019-12-03 00:00:00</td>\n",
       "      <td>5023956.6</td>\n",
       "      <td>5944</td>\n",
       "      <td>MOSKVA</td>\n",
       "      <td>73 7HJXK7 (W7X)</td>\n",
       "      <td>MPKIJJ</td>\n",
       "    </tr>\n",
       "  </tbody>\n",
       "</table>\n",
       "</div>"
      ],
      "text/plain": [
       "             purchdate     amount   mcc       mrchcity              mrchname  \\\n",
       "0  2019-11-02 00:00:00  9000000.0  5691         MOSCOW         IA7D1H Z1D1T7   \n",
       "1  2019-11-02 00:00:00  9000000.0  5691         MOSCOW         IA7D1H Z1D1T7   \n",
       "2  2019-10-25 00:00:00  7716900.0  5691         MOSCOW         HXL4K TL4EEXD   \n",
       "3  2019-11-29 00:00:00  5100000.0  6513  SANKT-PETERBU  7X 1E7HXD H1DKW1IKCL   \n",
       "4  2019-12-03 00:00:00  5023956.6  5944         MOSKVA       73 7HJXK7 (W7X)   \n",
       "\n",
       "     cnum  \n",
       "0  MJNLMQ  \n",
       "1  MJNLMQ  \n",
       "2  ELETCO  \n",
       "3  EL0KSF  \n",
       "4  MPKIJJ  "
      ]
     },
     "execution_count": 37,
     "metadata": {},
     "output_type": "execute_result"
    }
   ],
   "source": [
    "data.head()"
   ]
  },
  {
   "cell_type": "code",
   "execution_count": 38,
   "metadata": {},
   "outputs": [],
   "source": [
    "encoder = LabelEncoder()\n",
    "data['mcc'] = encoder.fit_transform(data['mcc'])"
   ]
  },
  {
   "cell_type": "code",
   "execution_count": 39,
   "metadata": {},
   "outputs": [
    {
     "data": {
      "text/plain": [
       "Counter({214: 835252,\n",
       "         286: 6689,\n",
       "         247: 81506,\n",
       "         197: 342612,\n",
       "         193: 95842,\n",
       "         176: 409470,\n",
       "         332: 71624,\n",
       "         194: 18566,\n",
       "         224: 197278,\n",
       "         186: 669639,\n",
       "         210: 622477,\n",
       "         251: 26243,\n",
       "         391: 216019,\n",
       "         138: 157373,\n",
       "         140: 33609,\n",
       "         377: 72029,\n",
       "         325: 364880,\n",
       "         370: 354523,\n",
       "         285: 226576,\n",
       "         280: 3353,\n",
       "         282: 5086225,\n",
       "         237: 2678962,\n",
       "         379: 64962,\n",
       "         35: 1057,\n",
       "         162: 6144,\n",
       "         289: 191291,\n",
       "         217: 94634,\n",
       "         284: 3846,\n",
       "         359: 84344,\n",
       "         149: 537887,\n",
       "         346: 191388,\n",
       "         392: 337597,\n",
       "         372: 6503,\n",
       "         187: 27053381,\n",
       "         26: 1158,\n",
       "         218: 177917,\n",
       "         229: 3646236,\n",
       "         279: 1192023,\n",
       "         20: 72109,\n",
       "         225: 5250,\n",
       "         213: 6394,\n",
       "         335: 9533,\n",
       "         239: 762,\n",
       "         133: 77439,\n",
       "         308: 196105,\n",
       "         184: 678548,\n",
       "         192: 5821330,\n",
       "         198: 2948285,\n",
       "         230: 301963,\n",
       "         223: 226759,\n",
       "         206: 32174,\n",
       "         360: 113068,\n",
       "         324: 75277,\n",
       "         253: 8189,\n",
       "         178: 48408,\n",
       "         175: 856752,\n",
       "         373: 19545,\n",
       "         207: 141144,\n",
       "         387: 367214,\n",
       "         70: 2073,\n",
       "         357: 216441,\n",
       "         222: 78347,\n",
       "         152: 20216,\n",
       "         244: 240163,\n",
       "         212: 254255,\n",
       "         10: 2070,\n",
       "         16: 391,\n",
       "         269: 819372,\n",
       "         361: 84829,\n",
       "         185: 890613,\n",
       "         202: 1368,\n",
       "         227: 914834,\n",
       "         245: 351446,\n",
       "         172: 24208,\n",
       "         298: 380112,\n",
       "         368: 34320,\n",
       "         287: 851824,\n",
       "         3: 140,\n",
       "         211: 20400,\n",
       "         350: 50693,\n",
       "         182: 47648,\n",
       "         355: 292909,\n",
       "         219: 3415,\n",
       "         220: 34417,\n",
       "         143: 150561,\n",
       "         49: 57,\n",
       "         281: 6563269,\n",
       "         177: 8071,\n",
       "         374: 1913,\n",
       "         66: 1814,\n",
       "         365: 58084,\n",
       "         389: 148570,\n",
       "         97: 990,\n",
       "         250: 121703,\n",
       "         378: 2977,\n",
       "         307: 69749,\n",
       "         369: 17606,\n",
       "         150: 5280,\n",
       "         272: 276374,\n",
       "         82: 603,\n",
       "         205: 1564,\n",
       "         17: 1314,\n",
       "         151: 1605,\n",
       "         114: 7,\n",
       "         160: 5241,\n",
       "         209: 223813,\n",
       "         142: 54292,\n",
       "         264: 3683,\n",
       "         256: 815,\n",
       "         231: 13208780,\n",
       "         283: 72893,\n",
       "         288: 45607,\n",
       "         252: 42410,\n",
       "         249: 8839,\n",
       "         46: 544,\n",
       "         156: 3953,\n",
       "         145: 327210,\n",
       "         4: 1819,\n",
       "         228: 37463,\n",
       "         47: 524,\n",
       "         154: 8492,\n",
       "         236: 3125257,\n",
       "         19: 1668,\n",
       "         40: 60,\n",
       "         48: 71,\n",
       "         29: 81,\n",
       "         273: 416266,\n",
       "         215: 9208,\n",
       "         234: 22561,\n",
       "         71: 109,\n",
       "         18: 4849,\n",
       "         52: 50,\n",
       "         7: 826,\n",
       "         158: 3473,\n",
       "         262: 4211,\n",
       "         179: 53604,\n",
       "         255: 7,\n",
       "         55: 3,\n",
       "         208: 52558,\n",
       "         43: 41,\n",
       "         33: 1864,\n",
       "         112: 412,\n",
       "         181: 2146,\n",
       "         30: 459,\n",
       "         68: 395,\n",
       "         254: 2527,\n",
       "         221: 568,\n",
       "         388: 1406,\n",
       "         155: 2000,\n",
       "         317: 29242,\n",
       "         132: 14303,\n",
       "         39: 258,\n",
       "         124: 3,\n",
       "         309: 139170,\n",
       "         101: 1596,\n",
       "         233: 567940,\n",
       "         5: 2217,\n",
       "         364: 4369,\n",
       "         354: 85346,\n",
       "         200: 348,\n",
       "         329: 2712,\n",
       "         42: 52,\n",
       "         383: 1778,\n",
       "         371: 4949,\n",
       "         319: 2062,\n",
       "         135: 408,\n",
       "         381: 4354,\n",
       "         246: 165231,\n",
       "         341: 11645,\n",
       "         352: 190,\n",
       "         21: 975,\n",
       "         139: 1777,\n",
       "         248: 424738,\n",
       "         300: 1296,\n",
       "         128: 225300,\n",
       "         393: 85442,\n",
       "         320: 2554,\n",
       "         367: 6497,\n",
       "         345: 8986,\n",
       "         380: 2710,\n",
       "         13: 286,\n",
       "         11: 4230,\n",
       "         243: 1803,\n",
       "         240: 1985,\n",
       "         167: 7623,\n",
       "         79: 2785,\n",
       "         275: 419419,\n",
       "         268: 11118,\n",
       "         235: 11591,\n",
       "         105: 2,\n",
       "         351: 52994,\n",
       "         159: 3407,\n",
       "         276: 942,\n",
       "         2: 2309,\n",
       "         37: 1377,\n",
       "         173: 1436,\n",
       "         263: 9165,\n",
       "         238: 13017,\n",
       "         6: 44,\n",
       "         153: 2352,\n",
       "         56: 551,\n",
       "         226: 27850,\n",
       "         134: 3118,\n",
       "         50: 383,\n",
       "         157: 406,\n",
       "         169: 1215,\n",
       "         343: 302061,\n",
       "         333: 114046,\n",
       "         336: 170,\n",
       "         38: 37,\n",
       "         295: 36192,\n",
       "         53: 19,\n",
       "         126: 341,\n",
       "         111: 484,\n",
       "         323: 19111,\n",
       "         87: 2204,\n",
       "         99: 858,\n",
       "         92: 1072,\n",
       "         165: 13432,\n",
       "         356: 31741,\n",
       "         304: 41925,\n",
       "         130: 4493604,\n",
       "         129: 55,\n",
       "         22: 660,\n",
       "         148: 55811,\n",
       "         161: 887,\n",
       "         147: 69,\n",
       "         31: 283,\n",
       "         196: 18044,\n",
       "         58: 299,\n",
       "         32: 20,\n",
       "         265: 554,\n",
       "         376: 801,\n",
       "         183: 19410,\n",
       "         349: 7942,\n",
       "         274: 2782,\n",
       "         338: 1749,\n",
       "         321: 5962,\n",
       "         96: 588,\n",
       "         23: 176,\n",
       "         80: 5,\n",
       "         188: 66559,\n",
       "         328: 206179,\n",
       "         89: 212,\n",
       "         257: 205836,\n",
       "         14: 78,\n",
       "         59: 237,\n",
       "         171: 84318,\n",
       "         163: 1167,\n",
       "         15: 149,\n",
       "         166: 14123,\n",
       "         375: 664,\n",
       "         330: 4522,\n",
       "         74: 18,\n",
       "         306: 2609,\n",
       "         144: 532976,\n",
       "         201: 49,\n",
       "         277: 94,\n",
       "         0: 36538,\n",
       "         8: 352,\n",
       "         266: 5294,\n",
       "         216: 404,\n",
       "         318: 5260,\n",
       "         362: 37,\n",
       "         118: 540,\n",
       "         337: 3133,\n",
       "         69: 920,\n",
       "         62: 12,\n",
       "         110: 243,\n",
       "         174: 1959,\n",
       "         78: 1147,\n",
       "         347: 3628,\n",
       "         127: 2783917,\n",
       "         270: 470,\n",
       "         291: 838,\n",
       "         271: 9531,\n",
       "         36: 7,\n",
       "         123: 57,\n",
       "         91: 1026,\n",
       "         331: 140,\n",
       "         267: 116,\n",
       "         303: 179,\n",
       "         322: 1269,\n",
       "         297: 32229,\n",
       "         137: 47,\n",
       "         311: 890,\n",
       "         168: 1799,\n",
       "         189: 180696,\n",
       "         108: 398,\n",
       "         115: 6,\n",
       "         86: 3,\n",
       "         60: 8,\n",
       "         385: 60,\n",
       "         67: 8,\n",
       "         312: 5940,\n",
       "         191: 318273,\n",
       "         90: 6,\n",
       "         259: 12,\n",
       "         61: 76,\n",
       "         299: 2516,\n",
       "         120: 231,\n",
       "         77: 12,\n",
       "         261: 107130,\n",
       "         386: 745,\n",
       "         119: 1,\n",
       "         141: 286832,\n",
       "         232: 23940,\n",
       "         278: 752,\n",
       "         116: 1,\n",
       "         98: 8,\n",
       "         51: 18,\n",
       "         65: 5,\n",
       "         315: 9449,\n",
       "         358: 1933,\n",
       "         83: 1,\n",
       "         305: 94,\n",
       "         339: 101,\n",
       "         109: 15,\n",
       "         85: 6,\n",
       "         242: 60,\n",
       "         342: 1302,\n",
       "         258: 840,\n",
       "         310: 789,\n",
       "         164: 14949,\n",
       "         104: 36,\n",
       "         117: 4,\n",
       "         28: 26,\n",
       "         353: 6020,\n",
       "         54: 2,\n",
       "         131: 2382571,\n",
       "         293: 10836,\n",
       "         290: 44,\n",
       "         316: 1410,\n",
       "         384: 43,\n",
       "         75: 1,\n",
       "         190: 56999,\n",
       "         41: 6,\n",
       "         27: 23,\n",
       "         95: 1,\n",
       "         348: 1372,\n",
       "         136: 432,\n",
       "         84: 2,\n",
       "         366: 36,\n",
       "         1: 133,\n",
       "         64: 1,\n",
       "         100: 1,\n",
       "         390: 12,\n",
       "         106: 2,\n",
       "         260: 1479,\n",
       "         195: 78,\n",
       "         326: 1,\n",
       "         93: 3,\n",
       "         382: 80,\n",
       "         199: 95353,\n",
       "         45: 7,\n",
       "         292: 1376,\n",
       "         44: 2,\n",
       "         12: 159,\n",
       "         340: 17,\n",
       "         103: 4,\n",
       "         301: 9759,\n",
       "         121: 1,\n",
       "         294: 965,\n",
       "         24: 5,\n",
       "         313: 63,\n",
       "         344: 98412,\n",
       "         296: 470,\n",
       "         57: 8,\n",
       "         94: 1,\n",
       "         204: 29,\n",
       "         73: 2,\n",
       "         25: 5,\n",
       "         81: 1,\n",
       "         125: 1,\n",
       "         122: 12,\n",
       "         88: 2,\n",
       "         170: 322,\n",
       "         9: 1,\n",
       "         327: 1361,\n",
       "         34: 3,\n",
       "         76: 1,\n",
       "         334: 3,\n",
       "         302: 97,\n",
       "         180: 10,\n",
       "         63: 1,\n",
       "         107: 1,\n",
       "         72: 2,\n",
       "         363: 1,\n",
       "         203: 1,\n",
       "         241: 2,\n",
       "         314: 16,\n",
       "         102: 1,\n",
       "         113: 1,\n",
       "         146: 2})"
      ]
     },
     "execution_count": 39,
     "metadata": {},
     "output_type": "execute_result"
    }
   ],
   "source": [
    "collections.Counter(data['mcc'].values)"
   ]
  },
  {
   "cell_type": "code",
   "execution_count": 20,
   "metadata": {},
   "outputs": [
    {
     "data": {
      "text/plain": [
       "394"
      ]
     },
     "execution_count": 20,
     "metadata": {},
     "output_type": "execute_result"
    }
   ],
   "source": [
    "len(np.unique(data['mcc']))"
   ]
  },
  {
   "cell_type": "code",
   "execution_count": 21,
   "metadata": {},
   "outputs": [
    {
     "data": {
      "text/plain": [
       "393"
      ]
     },
     "execution_count": 21,
     "metadata": {},
     "output_type": "execute_result"
    }
   ],
   "source": [
    "np.max(data['mcc'])"
   ]
  },
  {
   "cell_type": "code",
   "execution_count": 185,
   "metadata": {},
   "outputs": [],
   "source": [
    "data['purchdate'] = pd.to_datetime(data['purchdate'], format='%Y-%m-%d %H:%M:%S')"
   ]
  },
  {
   "cell_type": "code",
   "execution_count": 186,
   "metadata": {},
   "outputs": [
    {
     "data": {
      "text/html": [
       "<div>\n",
       "<style scoped>\n",
       "    .dataframe tbody tr th:only-of-type {\n",
       "        vertical-align: middle;\n",
       "    }\n",
       "\n",
       "    .dataframe tbody tr th {\n",
       "        vertical-align: top;\n",
       "    }\n",
       "\n",
       "    .dataframe thead th {\n",
       "        text-align: right;\n",
       "    }\n",
       "</style>\n",
       "<table border=\"1\" class=\"dataframe\">\n",
       "  <thead>\n",
       "    <tr style=\"text-align: right;\">\n",
       "      <th></th>\n",
       "      <th>purchdate</th>\n",
       "      <th>amount</th>\n",
       "      <th>mcc</th>\n",
       "      <th>mrchcity</th>\n",
       "      <th>mrchname</th>\n",
       "      <th>cnum</th>\n",
       "    </tr>\n",
       "  </thead>\n",
       "  <tbody>\n",
       "    <tr>\n",
       "      <th>0</th>\n",
       "      <td>2019-11-02</td>\n",
       "      <td>9000000.0</td>\n",
       "      <td>214</td>\n",
       "      <td>MOSCOW</td>\n",
       "      <td>IA7D1H Z1D1T7</td>\n",
       "      <td>MJNLMQ</td>\n",
       "    </tr>\n",
       "    <tr>\n",
       "      <th>1</th>\n",
       "      <td>2019-11-02</td>\n",
       "      <td>9000000.0</td>\n",
       "      <td>214</td>\n",
       "      <td>MOSCOW</td>\n",
       "      <td>IA7D1H Z1D1T7</td>\n",
       "      <td>MJNLMQ</td>\n",
       "    </tr>\n",
       "    <tr>\n",
       "      <th>2</th>\n",
       "      <td>2019-10-25</td>\n",
       "      <td>7716900.0</td>\n",
       "      <td>214</td>\n",
       "      <td>MOSCOW</td>\n",
       "      <td>HXL4K TL4EEXD</td>\n",
       "      <td>ELETCO</td>\n",
       "    </tr>\n",
       "    <tr>\n",
       "      <th>3</th>\n",
       "      <td>2019-11-29</td>\n",
       "      <td>5100000.0</td>\n",
       "      <td>286</td>\n",
       "      <td>SANKT-PETERBU</td>\n",
       "      <td>7X 1E7HXD H1DKW1IKCL</td>\n",
       "      <td>EL0KSF</td>\n",
       "    </tr>\n",
       "    <tr>\n",
       "      <th>4</th>\n",
       "      <td>2019-12-03</td>\n",
       "      <td>5023956.6</td>\n",
       "      <td>247</td>\n",
       "      <td>MOSKVA</td>\n",
       "      <td>73 7HJXK7 (W7X)</td>\n",
       "      <td>MPKIJJ</td>\n",
       "    </tr>\n",
       "  </tbody>\n",
       "</table>\n",
       "</div>"
      ],
      "text/plain": [
       "   purchdate     amount  mcc       mrchcity              mrchname    cnum\n",
       "0 2019-11-02  9000000.0  214         MOSCOW         IA7D1H Z1D1T7  MJNLMQ\n",
       "1 2019-11-02  9000000.0  214         MOSCOW         IA7D1H Z1D1T7  MJNLMQ\n",
       "2 2019-10-25  7716900.0  214         MOSCOW         HXL4K TL4EEXD  ELETCO\n",
       "3 2019-11-29  5100000.0  286  SANKT-PETERBU  7X 1E7HXD H1DKW1IKCL  EL0KSF\n",
       "4 2019-12-03  5023956.6  247         MOSKVA       73 7HJXK7 (W7X)  MPKIJJ"
      ]
     },
     "execution_count": 186,
     "metadata": {},
     "output_type": "execute_result"
    }
   ],
   "source": [
    "data.head()"
   ]
  },
  {
   "cell_type": "code",
   "execution_count": 187,
   "metadata": {},
   "outputs": [],
   "source": [
    "data.sort_values(by='purchdate', inplace=True)"
   ]
  },
  {
   "cell_type": "code",
   "execution_count": 188,
   "metadata": {},
   "outputs": [
    {
     "data": {
      "text/html": [
       "<div>\n",
       "<style scoped>\n",
       "    .dataframe tbody tr th:only-of-type {\n",
       "        vertical-align: middle;\n",
       "    }\n",
       "\n",
       "    .dataframe tbody tr th {\n",
       "        vertical-align: top;\n",
       "    }\n",
       "\n",
       "    .dataframe thead th {\n",
       "        text-align: right;\n",
       "    }\n",
       "</style>\n",
       "<table border=\"1\" class=\"dataframe\">\n",
       "  <thead>\n",
       "    <tr style=\"text-align: right;\">\n",
       "      <th></th>\n",
       "      <th>purchdate</th>\n",
       "      <th>amount</th>\n",
       "      <th>mcc</th>\n",
       "      <th>mrchcity</th>\n",
       "      <th>mrchname</th>\n",
       "      <th>cnum</th>\n",
       "    </tr>\n",
       "  </thead>\n",
       "  <tbody>\n",
       "    <tr>\n",
       "      <th>46308876</th>\n",
       "      <td>2019-09-01</td>\n",
       "      <td>428.2</td>\n",
       "      <td>236</td>\n",
       "      <td>N.NOVGOROD</td>\n",
       "      <td>7WE1IADOO WLD3E MBV5</td>\n",
       "      <td>EEUMYJ</td>\n",
       "    </tr>\n",
       "    <tr>\n",
       "      <th>99913237</th>\n",
       "      <td>2019-09-01</td>\n",
       "      <td>30.0</td>\n",
       "      <td>231</td>\n",
       "      <td>KIROV</td>\n",
       "      <td>Trwhmwc-Talunl</td>\n",
       "      <td>ELNJV5</td>\n",
       "    </tr>\n",
       "    <tr>\n",
       "      <th>99913235</th>\n",
       "      <td>2019-09-01</td>\n",
       "      <td>30.0</td>\n",
       "      <td>231</td>\n",
       "      <td>KIROV</td>\n",
       "      <td>Trwhmwc-Talunl</td>\n",
       "      <td>ELNJV5</td>\n",
       "    </tr>\n",
       "    <tr>\n",
       "      <th>24234483</th>\n",
       "      <td>2019-09-01</td>\n",
       "      <td>1140.0</td>\n",
       "      <td>130</td>\n",
       "      <td>SANKT-PETERBU</td>\n",
       "      <td>ZHX07H 7TEX</td>\n",
       "      <td>EE01QH</td>\n",
       "    </tr>\n",
       "    <tr>\n",
       "      <th>99913230</th>\n",
       "      <td>2019-09-01</td>\n",
       "      <td>30.0</td>\n",
       "      <td>231</td>\n",
       "      <td>KIROV</td>\n",
       "      <td>Trwhmwc-Talunl</td>\n",
       "      <td>ELNJV5</td>\n",
       "    </tr>\n",
       "  </tbody>\n",
       "</table>\n",
       "</div>"
      ],
      "text/plain": [
       "          purchdate  amount  mcc       mrchcity              mrchname    cnum\n",
       "46308876 2019-09-01   428.2  236     N.NOVGOROD  7WE1IADOO WLD3E MBV5  EEUMYJ\n",
       "99913237 2019-09-01    30.0  231          KIROV        Trwhmwc-Talunl  ELNJV5\n",
       "99913235 2019-09-01    30.0  231          KIROV        Trwhmwc-Talunl  ELNJV5\n",
       "24234483 2019-09-01  1140.0  130  SANKT-PETERBU           ZHX07H 7TEX  EE01QH\n",
       "99913230 2019-09-01    30.0  231          KIROV        Trwhmwc-Talunl  ELNJV5"
      ]
     },
     "execution_count": 188,
     "metadata": {},
     "output_type": "execute_result"
    }
   ],
   "source": [
    "data.head()"
   ]
  },
  {
   "cell_type": "code",
   "execution_count": 189,
   "metadata": {},
   "outputs": [],
   "source": [
    "df = data.groupby('cnum')['mcc'].agg(lambda x: list(x))"
   ]
  },
  {
   "cell_type": "code",
   "execution_count": 190,
   "metadata": {},
   "outputs": [],
   "source": [
    "df = pd.DataFrame(df)\n",
    "df.reset_index(inplace=True)"
   ]
  },
  {
   "cell_type": "code",
   "execution_count": 191,
   "metadata": {},
   "outputs": [
    {
     "data": {
      "text/html": [
       "<div>\n",
       "<style scoped>\n",
       "    .dataframe tbody tr th:only-of-type {\n",
       "        vertical-align: middle;\n",
       "    }\n",
       "\n",
       "    .dataframe tbody tr th {\n",
       "        vertical-align: top;\n",
       "    }\n",
       "\n",
       "    .dataframe thead th {\n",
       "        text-align: right;\n",
       "    }\n",
       "</style>\n",
       "<table border=\"1\" class=\"dataframe\">\n",
       "  <thead>\n",
       "    <tr style=\"text-align: right;\">\n",
       "      <th></th>\n",
       "      <th>cnum</th>\n",
       "      <th>mcc</th>\n",
       "    </tr>\n",
       "  </thead>\n",
       "  <tbody>\n",
       "    <tr>\n",
       "      <th>0</th>\n",
       "      <td>0CCCDO</td>\n",
       "      <td>[269, 187, 166, 282, 212, 282, 208, 269, 187, ...</td>\n",
       "    </tr>\n",
       "    <tr>\n",
       "      <th>1</th>\n",
       "      <td>0CCCFO</td>\n",
       "      <td>[281, 281, 281, 281]</td>\n",
       "    </tr>\n",
       "    <tr>\n",
       "      <th>2</th>\n",
       "      <td>0CCCGC</td>\n",
       "      <td>[187, 192, 187, 198, 127, 231, 231, 229, 187, ...</td>\n",
       "    </tr>\n",
       "    <tr>\n",
       "      <th>3</th>\n",
       "      <td>0CCCGG</td>\n",
       "      <td>[187, 198, 187, 198, 127, 187, 187, 198, 187, ...</td>\n",
       "    </tr>\n",
       "    <tr>\n",
       "      <th>4</th>\n",
       "      <td>0CCCGO</td>\n",
       "      <td>[187, 187, 130, 130, 236, 187, 231, 231, 187, ...</td>\n",
       "    </tr>\n",
       "  </tbody>\n",
       "</table>\n",
       "</div>"
      ],
      "text/plain": [
       "     cnum                                                mcc\n",
       "0  0CCCDO  [269, 187, 166, 282, 212, 282, 208, 269, 187, ...\n",
       "1  0CCCFO                               [281, 281, 281, 281]\n",
       "2  0CCCGC  [187, 192, 187, 198, 127, 231, 231, 229, 187, ...\n",
       "3  0CCCGG  [187, 198, 187, 198, 127, 187, 187, 198, 187, ...\n",
       "4  0CCCGO  [187, 187, 130, 130, 236, 187, 231, 231, 187, ..."
      ]
     },
     "execution_count": 191,
     "metadata": {},
     "output_type": "execute_result"
    }
   ],
   "source": [
    "df.head()"
   ]
  },
  {
   "cell_type": "code",
   "execution_count": 192,
   "metadata": {},
   "outputs": [],
   "source": [
    "df = df.merge(status, how='inner', left_on='cnum', right_on='cnum_')"
   ]
  },
  {
   "cell_type": "code",
   "execution_count": 193,
   "metadata": {},
   "outputs": [],
   "source": [
    "df = df[['cnum', 'mcc', 'married_']]"
   ]
  },
  {
   "cell_type": "code",
   "execution_count": 194,
   "metadata": {},
   "outputs": [
    {
     "data": {
      "text/html": [
       "<div>\n",
       "<style scoped>\n",
       "    .dataframe tbody tr th:only-of-type {\n",
       "        vertical-align: middle;\n",
       "    }\n",
       "\n",
       "    .dataframe tbody tr th {\n",
       "        vertical-align: top;\n",
       "    }\n",
       "\n",
       "    .dataframe thead th {\n",
       "        text-align: right;\n",
       "    }\n",
       "</style>\n",
       "<table border=\"1\" class=\"dataframe\">\n",
       "  <thead>\n",
       "    <tr style=\"text-align: right;\">\n",
       "      <th></th>\n",
       "      <th>cnum</th>\n",
       "      <th>mcc</th>\n",
       "      <th>married_</th>\n",
       "    </tr>\n",
       "  </thead>\n",
       "  <tbody>\n",
       "    <tr>\n",
       "      <th>0</th>\n",
       "      <td>0CCCDO</td>\n",
       "      <td>[269, 187, 166, 282, 212, 282, 208, 269, 187, ...</td>\n",
       "      <td>not_married</td>\n",
       "    </tr>\n",
       "    <tr>\n",
       "      <th>1</th>\n",
       "      <td>0CCCFO</td>\n",
       "      <td>[281, 281, 281, 281]</td>\n",
       "      <td>not_married</td>\n",
       "    </tr>\n",
       "    <tr>\n",
       "      <th>2</th>\n",
       "      <td>0CCCGC</td>\n",
       "      <td>[187, 192, 187, 198, 127, 231, 231, 229, 187, ...</td>\n",
       "      <td>married</td>\n",
       "    </tr>\n",
       "    <tr>\n",
       "      <th>3</th>\n",
       "      <td>0CCCGG</td>\n",
       "      <td>[187, 198, 187, 198, 127, 187, 187, 198, 187, ...</td>\n",
       "      <td>not_married</td>\n",
       "    </tr>\n",
       "    <tr>\n",
       "      <th>4</th>\n",
       "      <td>0CCCGO</td>\n",
       "      <td>[187, 187, 130, 130, 236, 187, 231, 231, 187, ...</td>\n",
       "      <td>married</td>\n",
       "    </tr>\n",
       "  </tbody>\n",
       "</table>\n",
       "</div>"
      ],
      "text/plain": [
       "     cnum                                                mcc     married_\n",
       "0  0CCCDO  [269, 187, 166, 282, 212, 282, 208, 269, 187, ...  not_married\n",
       "1  0CCCFO                               [281, 281, 281, 281]  not_married\n",
       "2  0CCCGC  [187, 192, 187, 198, 127, 231, 231, 229, 187, ...      married\n",
       "3  0CCCGG  [187, 198, 187, 198, 127, 187, 187, 198, 187, ...  not_married\n",
       "4  0CCCGO  [187, 187, 130, 130, 236, 187, 231, 231, 187, ...      married"
      ]
     },
     "execution_count": 194,
     "metadata": {},
     "output_type": "execute_result"
    }
   ],
   "source": [
    "df.head()"
   ]
  },
  {
   "cell_type": "code",
   "execution_count": 195,
   "metadata": {},
   "outputs": [],
   "source": [
    "df['married_'] = df['married_'].map({'not_married': 0, 'married': 1})"
   ]
  },
  {
   "cell_type": "code",
   "execution_count": 196,
   "metadata": {},
   "outputs": [
    {
     "data": {
      "text/html": [
       "<div>\n",
       "<style scoped>\n",
       "    .dataframe tbody tr th:only-of-type {\n",
       "        vertical-align: middle;\n",
       "    }\n",
       "\n",
       "    .dataframe tbody tr th {\n",
       "        vertical-align: top;\n",
       "    }\n",
       "\n",
       "    .dataframe thead th {\n",
       "        text-align: right;\n",
       "    }\n",
       "</style>\n",
       "<table border=\"1\" class=\"dataframe\">\n",
       "  <thead>\n",
       "    <tr style=\"text-align: right;\">\n",
       "      <th></th>\n",
       "      <th>cnum</th>\n",
       "      <th>mcc</th>\n",
       "      <th>married_</th>\n",
       "    </tr>\n",
       "  </thead>\n",
       "  <tbody>\n",
       "    <tr>\n",
       "      <th>0</th>\n",
       "      <td>0CCCDO</td>\n",
       "      <td>[269, 187, 166, 282, 212, 282, 208, 269, 187, ...</td>\n",
       "      <td>0</td>\n",
       "    </tr>\n",
       "    <tr>\n",
       "      <th>1</th>\n",
       "      <td>0CCCFO</td>\n",
       "      <td>[281, 281, 281, 281]</td>\n",
       "      <td>0</td>\n",
       "    </tr>\n",
       "    <tr>\n",
       "      <th>2</th>\n",
       "      <td>0CCCGC</td>\n",
       "      <td>[187, 192, 187, 198, 127, 231, 231, 229, 187, ...</td>\n",
       "      <td>1</td>\n",
       "    </tr>\n",
       "    <tr>\n",
       "      <th>3</th>\n",
       "      <td>0CCCGG</td>\n",
       "      <td>[187, 198, 187, 198, 127, 187, 187, 198, 187, ...</td>\n",
       "      <td>0</td>\n",
       "    </tr>\n",
       "    <tr>\n",
       "      <th>4</th>\n",
       "      <td>0CCCGO</td>\n",
       "      <td>[187, 187, 130, 130, 236, 187, 231, 231, 187, ...</td>\n",
       "      <td>1</td>\n",
       "    </tr>\n",
       "  </tbody>\n",
       "</table>\n",
       "</div>"
      ],
      "text/plain": [
       "     cnum                                                mcc  married_\n",
       "0  0CCCDO  [269, 187, 166, 282, 212, 282, 208, 269, 187, ...         0\n",
       "1  0CCCFO                               [281, 281, 281, 281]         0\n",
       "2  0CCCGC  [187, 192, 187, 198, 127, 231, 231, 229, 187, ...         1\n",
       "3  0CCCGG  [187, 198, 187, 198, 127, 187, 187, 198, 187, ...         0\n",
       "4  0CCCGO  [187, 187, 130, 130, 236, 187, 231, 231, 187, ...         1"
      ]
     },
     "execution_count": 196,
     "metadata": {},
     "output_type": "execute_result"
    }
   ],
   "source": [
    "df.head()"
   ]
  },
  {
   "cell_type": "code",
   "execution_count": 197,
   "metadata": {},
   "outputs": [
    {
     "data": {
      "text/plain": [
       "(1355925, 3)"
      ]
     },
     "execution_count": 197,
     "metadata": {},
     "output_type": "execute_result"
    }
   ],
   "source": [
    "df.shape"
   ]
  },
  {
   "cell_type": "code",
   "execution_count": 198,
   "metadata": {},
   "outputs": [],
   "source": [
    "all_l = []\n",
    "for i in range(len(df)):\n",
    "    all_l.append(len(df.loc[i, 'mcc']))"
   ]
  },
  {
   "cell_type": "code",
   "execution_count": 199,
   "metadata": {},
   "outputs": [
    {
     "data": {
      "text/plain": [
       "36.0"
      ]
     },
     "execution_count": 199,
     "metadata": {},
     "output_type": "execute_result"
    }
   ],
   "source": [
    "np.median(all_l)"
   ]
  },
  {
   "cell_type": "code",
   "execution_count": 200,
   "metadata": {},
   "outputs": [
    {
     "data": {
      "text/plain": [
       "2690"
      ]
     },
     "execution_count": 200,
     "metadata": {},
     "output_type": "execute_result"
    }
   ],
   "source": [
    "np.max(all_l)"
   ]
  },
  {
   "cell_type": "code",
   "execution_count": 201,
   "metadata": {},
   "outputs": [
    {
     "data": {
      "text/plain": [
       "12.0"
      ]
     },
     "execution_count": 201,
     "metadata": {},
     "output_type": "execute_result"
    }
   ],
   "source": [
    "np.quantile(all_l, 0.3)"
   ]
  },
  {
   "cell_type": "code",
   "execution_count": 202,
   "metadata": {},
   "outputs": [],
   "source": [
    "df = df.loc[df['mcc'].apply(lambda x: len(x)) >= 10]"
   ]
  },
  {
   "cell_type": "code",
   "execution_count": 203,
   "metadata": {},
   "outputs": [
    {
     "data": {
      "text/plain": [
       "(993528, 3)"
      ]
     },
     "execution_count": 203,
     "metadata": {},
     "output_type": "execute_result"
    }
   ],
   "source": [
    "df.shape"
   ]
  },
  {
   "cell_type": "code",
   "execution_count": 204,
   "metadata": {},
   "outputs": [
    {
     "data": {
      "text/html": [
       "<div>\n",
       "<style scoped>\n",
       "    .dataframe tbody tr th:only-of-type {\n",
       "        vertical-align: middle;\n",
       "    }\n",
       "\n",
       "    .dataframe tbody tr th {\n",
       "        vertical-align: top;\n",
       "    }\n",
       "\n",
       "    .dataframe thead th {\n",
       "        text-align: right;\n",
       "    }\n",
       "</style>\n",
       "<table border=\"1\" class=\"dataframe\">\n",
       "  <thead>\n",
       "    <tr style=\"text-align: right;\">\n",
       "      <th></th>\n",
       "      <th>cnum</th>\n",
       "      <th>mcc</th>\n",
       "      <th>married_</th>\n",
       "    </tr>\n",
       "  </thead>\n",
       "  <tbody>\n",
       "    <tr>\n",
       "      <th>0</th>\n",
       "      <td>0CCCDO</td>\n",
       "      <td>[269, 187, 166, 282, 212, 282, 208, 269, 187, ...</td>\n",
       "      <td>0</td>\n",
       "    </tr>\n",
       "    <tr>\n",
       "      <th>2</th>\n",
       "      <td>0CCCGC</td>\n",
       "      <td>[187, 192, 187, 198, 127, 231, 231, 229, 187, ...</td>\n",
       "      <td>1</td>\n",
       "    </tr>\n",
       "    <tr>\n",
       "      <th>3</th>\n",
       "      <td>0CCCGG</td>\n",
       "      <td>[187, 198, 187, 198, 127, 187, 187, 198, 187, ...</td>\n",
       "      <td>0</td>\n",
       "    </tr>\n",
       "    <tr>\n",
       "      <th>4</th>\n",
       "      <td>0CCCGO</td>\n",
       "      <td>[187, 187, 130, 130, 236, 187, 231, 231, 187, ...</td>\n",
       "      <td>1</td>\n",
       "    </tr>\n",
       "    <tr>\n",
       "      <th>5</th>\n",
       "      <td>0CCCGS</td>\n",
       "      <td>[187, 187, 187, 130, 325, 229, 359, 187, 127, ...</td>\n",
       "      <td>0</td>\n",
       "    </tr>\n",
       "  </tbody>\n",
       "</table>\n",
       "</div>"
      ],
      "text/plain": [
       "     cnum                                                mcc  married_\n",
       "0  0CCCDO  [269, 187, 166, 282, 212, 282, 208, 269, 187, ...         0\n",
       "2  0CCCGC  [187, 192, 187, 198, 127, 231, 231, 229, 187, ...         1\n",
       "3  0CCCGG  [187, 198, 187, 198, 127, 187, 187, 198, 187, ...         0\n",
       "4  0CCCGO  [187, 187, 130, 130, 236, 187, 231, 231, 187, ...         1\n",
       "5  0CCCGS  [187, 187, 187, 130, 325, 229, 359, 187, 127, ...         0"
      ]
     },
     "execution_count": 204,
     "metadata": {},
     "output_type": "execute_result"
    }
   ],
   "source": [
    "df.head()"
   ]
  },
  {
   "cell_type": "code",
   "execution_count": 205,
   "metadata": {},
   "outputs": [],
   "source": [
    "df['mcc'] = df['mcc'].apply(lambda x: x[-200:])"
   ]
  },
  {
   "cell_type": "code",
   "execution_count": 206,
   "metadata": {},
   "outputs": [
    {
     "data": {
      "text/html": [
       "<div>\n",
       "<style scoped>\n",
       "    .dataframe tbody tr th:only-of-type {\n",
       "        vertical-align: middle;\n",
       "    }\n",
       "\n",
       "    .dataframe tbody tr th {\n",
       "        vertical-align: top;\n",
       "    }\n",
       "\n",
       "    .dataframe thead th {\n",
       "        text-align: right;\n",
       "    }\n",
       "</style>\n",
       "<table border=\"1\" class=\"dataframe\">\n",
       "  <thead>\n",
       "    <tr style=\"text-align: right;\">\n",
       "      <th></th>\n",
       "      <th>cnum</th>\n",
       "      <th>mcc</th>\n",
       "      <th>married_</th>\n",
       "    </tr>\n",
       "  </thead>\n",
       "  <tbody>\n",
       "    <tr>\n",
       "      <th>0</th>\n",
       "      <td>0CCCDO</td>\n",
       "      <td>[269, 187, 166, 282, 212, 282, 208, 269, 187, ...</td>\n",
       "      <td>0</td>\n",
       "    </tr>\n",
       "    <tr>\n",
       "      <th>2</th>\n",
       "      <td>0CCCGC</td>\n",
       "      <td>[187, 192, 187, 198, 127, 231, 231, 229, 187, ...</td>\n",
       "      <td>1</td>\n",
       "    </tr>\n",
       "    <tr>\n",
       "      <th>3</th>\n",
       "      <td>0CCCGG</td>\n",
       "      <td>[187, 198, 187, 198, 127, 187, 187, 198, 187, ...</td>\n",
       "      <td>0</td>\n",
       "    </tr>\n",
       "    <tr>\n",
       "      <th>4</th>\n",
       "      <td>0CCCGO</td>\n",
       "      <td>[131, 231, 187, 231, 231, 231, 187, 231, 231, ...</td>\n",
       "      <td>1</td>\n",
       "    </tr>\n",
       "    <tr>\n",
       "      <th>5</th>\n",
       "      <td>0CCCGS</td>\n",
       "      <td>[289, 229, 325, 128, 130, 130, 130, 187, 192, ...</td>\n",
       "      <td>0</td>\n",
       "    </tr>\n",
       "  </tbody>\n",
       "</table>\n",
       "</div>"
      ],
      "text/plain": [
       "     cnum                                                mcc  married_\n",
       "0  0CCCDO  [269, 187, 166, 282, 212, 282, 208, 269, 187, ...         0\n",
       "2  0CCCGC  [187, 192, 187, 198, 127, 231, 231, 229, 187, ...         1\n",
       "3  0CCCGG  [187, 198, 187, 198, 127, 187, 187, 198, 187, ...         0\n",
       "4  0CCCGO  [131, 231, 187, 231, 231, 231, 187, 231, 231, ...         1\n",
       "5  0CCCGS  [289, 229, 325, 128, 130, 130, 130, 187, 192, ...         0"
      ]
     },
     "execution_count": 206,
     "metadata": {},
     "output_type": "execute_result"
    }
   ],
   "source": [
    "df.head()"
   ]
  },
  {
   "cell_type": "code",
   "execution_count": 207,
   "metadata": {},
   "outputs": [],
   "source": [
    "df.rename({'cnum': 'id', 'married_': 'target'}, axis=1, inplace=True)"
   ]
  },
  {
   "cell_type": "code",
   "execution_count": 208,
   "metadata": {},
   "outputs": [
    {
     "data": {
      "text/html": [
       "<div>\n",
       "<style scoped>\n",
       "    .dataframe tbody tr th:only-of-type {\n",
       "        vertical-align: middle;\n",
       "    }\n",
       "\n",
       "    .dataframe tbody tr th {\n",
       "        vertical-align: top;\n",
       "    }\n",
       "\n",
       "    .dataframe thead th {\n",
       "        text-align: right;\n",
       "    }\n",
       "</style>\n",
       "<table border=\"1\" class=\"dataframe\">\n",
       "  <thead>\n",
       "    <tr style=\"text-align: right;\">\n",
       "      <th></th>\n",
       "      <th>id</th>\n",
       "      <th>mcc</th>\n",
       "      <th>target</th>\n",
       "    </tr>\n",
       "  </thead>\n",
       "  <tbody>\n",
       "    <tr>\n",
       "      <th>0</th>\n",
       "      <td>0CCCDO</td>\n",
       "      <td>[269, 187, 166, 282, 212, 282, 208, 269, 187, ...</td>\n",
       "      <td>0</td>\n",
       "    </tr>\n",
       "    <tr>\n",
       "      <th>2</th>\n",
       "      <td>0CCCGC</td>\n",
       "      <td>[187, 192, 187, 198, 127, 231, 231, 229, 187, ...</td>\n",
       "      <td>1</td>\n",
       "    </tr>\n",
       "    <tr>\n",
       "      <th>3</th>\n",
       "      <td>0CCCGG</td>\n",
       "      <td>[187, 198, 187, 198, 127, 187, 187, 198, 187, ...</td>\n",
       "      <td>0</td>\n",
       "    </tr>\n",
       "    <tr>\n",
       "      <th>4</th>\n",
       "      <td>0CCCGO</td>\n",
       "      <td>[131, 231, 187, 231, 231, 231, 187, 231, 231, ...</td>\n",
       "      <td>1</td>\n",
       "    </tr>\n",
       "    <tr>\n",
       "      <th>5</th>\n",
       "      <td>0CCCGS</td>\n",
       "      <td>[289, 229, 325, 128, 130, 130, 130, 187, 192, ...</td>\n",
       "      <td>0</td>\n",
       "    </tr>\n",
       "  </tbody>\n",
       "</table>\n",
       "</div>"
      ],
      "text/plain": [
       "       id                                                mcc  target\n",
       "0  0CCCDO  [269, 187, 166, 282, 212, 282, 208, 269, 187, ...       0\n",
       "2  0CCCGC  [187, 192, 187, 198, 127, 231, 231, 229, 187, ...       1\n",
       "3  0CCCGG  [187, 198, 187, 198, 127, 187, 187, 198, 187, ...       0\n",
       "4  0CCCGO  [131, 231, 187, 231, 231, 231, 187, 231, 231, ...       1\n",
       "5  0CCCGS  [289, 229, 325, 128, 130, 130, 130, 187, 192, ...       0"
      ]
     },
     "execution_count": 208,
     "metadata": {},
     "output_type": "execute_result"
    }
   ],
   "source": [
    "df.head()"
   ]
  },
  {
   "cell_type": "code",
   "execution_count": 209,
   "metadata": {},
   "outputs": [
    {
     "data": {
      "text/plain": [
       "0    632738\n",
       "1    360790\n",
       "Name: target, dtype: int64"
      ]
     },
     "execution_count": 209,
     "metadata": {},
     "output_type": "execute_result"
    }
   ],
   "source": [
    "df['target'].value_counts()"
   ]
  },
  {
   "cell_type": "code",
   "execution_count": 210,
   "metadata": {},
   "outputs": [],
   "source": [
    "zero_id = df.loc[df['target']==0]['id']"
   ]
  },
  {
   "cell_type": "code",
   "execution_count": 211,
   "metadata": {},
   "outputs": [],
   "source": [
    "one_id = df.loc[df['target']==1]['id']"
   ]
  },
  {
   "cell_type": "code",
   "execution_count": 212,
   "metadata": {},
   "outputs": [],
   "source": [
    "reduced_zero_id = np.random.choice(zero_id, size=len(df.loc[df['target']==1]), replace=False)"
   ]
  },
  {
   "cell_type": "code",
   "execution_count": 213,
   "metadata": {},
   "outputs": [],
   "source": [
    "df = df.loc[df['id'].isin(list(one_id)+list(reduced_zero_id))]"
   ]
  },
  {
   "cell_type": "code",
   "execution_count": 214,
   "metadata": {},
   "outputs": [
    {
     "data": {
      "text/html": [
       "<div>\n",
       "<style scoped>\n",
       "    .dataframe tbody tr th:only-of-type {\n",
       "        vertical-align: middle;\n",
       "    }\n",
       "\n",
       "    .dataframe tbody tr th {\n",
       "        vertical-align: top;\n",
       "    }\n",
       "\n",
       "    .dataframe thead th {\n",
       "        text-align: right;\n",
       "    }\n",
       "</style>\n",
       "<table border=\"1\" class=\"dataframe\">\n",
       "  <thead>\n",
       "    <tr style=\"text-align: right;\">\n",
       "      <th></th>\n",
       "      <th>id</th>\n",
       "      <th>mcc</th>\n",
       "      <th>target</th>\n",
       "    </tr>\n",
       "  </thead>\n",
       "  <tbody>\n",
       "    <tr>\n",
       "      <th>0</th>\n",
       "      <td>0CCCDO</td>\n",
       "      <td>[269, 187, 166, 282, 212, 282, 208, 269, 187, ...</td>\n",
       "      <td>0</td>\n",
       "    </tr>\n",
       "    <tr>\n",
       "      <th>2</th>\n",
       "      <td>0CCCGC</td>\n",
       "      <td>[187, 192, 187, 198, 127, 231, 231, 229, 187, ...</td>\n",
       "      <td>1</td>\n",
       "    </tr>\n",
       "    <tr>\n",
       "      <th>4</th>\n",
       "      <td>0CCCGO</td>\n",
       "      <td>[131, 231, 187, 231, 231, 231, 187, 231, 231, ...</td>\n",
       "      <td>1</td>\n",
       "    </tr>\n",
       "    <tr>\n",
       "      <th>5</th>\n",
       "      <td>0CCCGS</td>\n",
       "      <td>[289, 229, 325, 128, 130, 130, 130, 187, 192, ...</td>\n",
       "      <td>0</td>\n",
       "    </tr>\n",
       "    <tr>\n",
       "      <th>6</th>\n",
       "      <td>0CCCHG</td>\n",
       "      <td>[370, 214, 187, 187, 187, 229, 187, 187, 130, ...</td>\n",
       "      <td>1</td>\n",
       "    </tr>\n",
       "  </tbody>\n",
       "</table>\n",
       "</div>"
      ],
      "text/plain": [
       "       id                                                mcc  target\n",
       "0  0CCCDO  [269, 187, 166, 282, 212, 282, 208, 269, 187, ...       0\n",
       "2  0CCCGC  [187, 192, 187, 198, 127, 231, 231, 229, 187, ...       1\n",
       "4  0CCCGO  [131, 231, 187, 231, 231, 231, 187, 231, 231, ...       1\n",
       "5  0CCCGS  [289, 229, 325, 128, 130, 130, 130, 187, 192, ...       0\n",
       "6  0CCCHG  [370, 214, 187, 187, 187, 229, 187, 187, 130, ...       1"
      ]
     },
     "execution_count": 214,
     "metadata": {},
     "output_type": "execute_result"
    }
   ],
   "source": [
    "df.head()"
   ]
  },
  {
   "cell_type": "code",
   "execution_count": 215,
   "metadata": {},
   "outputs": [],
   "source": [
    "df.reset_index(inplace=True, drop=True)"
   ]
  },
  {
   "cell_type": "code",
   "execution_count": 216,
   "metadata": {},
   "outputs": [
    {
     "data": {
      "text/plain": [
       "50.0"
      ]
     },
     "execution_count": 216,
     "metadata": {},
     "output_type": "execute_result"
    }
   ],
   "source": [
    "df['target'].sum() / len(df) * 100"
   ]
  },
  {
   "cell_type": "code",
   "execution_count": 217,
   "metadata": {},
   "outputs": [],
   "source": [
    "df = df.sample(frac=1).reset_index(drop=True)"
   ]
  },
  {
   "cell_type": "code",
   "execution_count": 218,
   "metadata": {},
   "outputs": [
    {
     "data": {
      "text/plain": [
       "(721580, 3)"
      ]
     },
     "execution_count": 218,
     "metadata": {},
     "output_type": "execute_result"
    }
   ],
   "source": [
    "df.shape"
   ]
  },
  {
   "cell_type": "code",
   "execution_count": 219,
   "metadata": {},
   "outputs": [
    {
     "data": {
      "text/html": [
       "<div>\n",
       "<style scoped>\n",
       "    .dataframe tbody tr th:only-of-type {\n",
       "        vertical-align: middle;\n",
       "    }\n",
       "\n",
       "    .dataframe tbody tr th {\n",
       "        vertical-align: top;\n",
       "    }\n",
       "\n",
       "    .dataframe thead th {\n",
       "        text-align: right;\n",
       "    }\n",
       "</style>\n",
       "<table border=\"1\" class=\"dataframe\">\n",
       "  <thead>\n",
       "    <tr style=\"text-align: right;\">\n",
       "      <th></th>\n",
       "      <th>id</th>\n",
       "      <th>mcc</th>\n",
       "      <th>target</th>\n",
       "    </tr>\n",
       "  </thead>\n",
       "  <tbody>\n",
       "    <tr>\n",
       "      <th>0</th>\n",
       "      <td>EXCSSG</td>\n",
       "      <td>[184, 185, 187, 236, 175, 187, 187, 236, 236, ...</td>\n",
       "      <td>0</td>\n",
       "    </tr>\n",
       "    <tr>\n",
       "      <th>1</th>\n",
       "      <td>8E4SUG</td>\n",
       "      <td>[187, 231, 187, 187, 185, 231, 187, 231, 187, ...</td>\n",
       "      <td>0</td>\n",
       "    </tr>\n",
       "    <tr>\n",
       "      <th>2</th>\n",
       "      <td>RTPLNJ</td>\n",
       "      <td>[198, 192, 231, 282, 198, 282, 236, 231, 231, ...</td>\n",
       "      <td>1</td>\n",
       "    </tr>\n",
       "    <tr>\n",
       "      <th>3</th>\n",
       "      <td>TMKMKL</td>\n",
       "      <td>[281, 281, 187, 187, 279, 187, 187, 187, 187, ...</td>\n",
       "      <td>1</td>\n",
       "    </tr>\n",
       "    <tr>\n",
       "      <th>4</th>\n",
       "      <td>4HDXOX</td>\n",
       "      <td>[187, 192, 223, 365, 365, 192, 192, 187, 187, ...</td>\n",
       "      <td>0</td>\n",
       "    </tr>\n",
       "  </tbody>\n",
       "</table>\n",
       "</div>"
      ],
      "text/plain": [
       "       id                                                mcc  target\n",
       "0  EXCSSG  [184, 185, 187, 236, 175, 187, 187, 236, 236, ...       0\n",
       "1  8E4SUG  [187, 231, 187, 187, 185, 231, 187, 231, 187, ...       0\n",
       "2  RTPLNJ  [198, 192, 231, 282, 198, 282, 236, 231, 231, ...       1\n",
       "3  TMKMKL  [281, 281, 187, 187, 279, 187, 187, 187, 187, ...       1\n",
       "4  4HDXOX  [187, 192, 223, 365, 365, 192, 192, 187, 187, ...       0"
      ]
     },
     "execution_count": 219,
     "metadata": {},
     "output_type": "execute_result"
    }
   ],
   "source": [
    "df.head()"
   ]
  },
  {
   "cell_type": "code",
   "execution_count": 220,
   "metadata": {},
   "outputs": [
    {
     "data": {
      "text/plain": [
       "0.5"
      ]
     },
     "execution_count": 220,
     "metadata": {},
     "output_type": "execute_result"
    }
   ],
   "source": [
    "df['target'].sum() / len(df)"
   ]
  },
  {
   "cell_type": "markdown",
   "metadata": {},
   "source": [
    "### Train-valid-test split"
   ]
  },
  {
   "cell_type": "code",
   "execution_count": 221,
   "metadata": {},
   "outputs": [],
   "source": [
    "all_id = df['id'].values"
   ]
  },
  {
   "cell_type": "code",
   "execution_count": 222,
   "metadata": {},
   "outputs": [],
   "source": [
    "train_id = all_id[:int(0.7 * len(all_id))]\n",
    "valid_id = all_id[int(0.7 * len(all_id)):int(0.8 * len(all_id))]\n",
    "test_id = all_id[int(0.8 * len(all_id)):]"
   ]
  },
  {
   "cell_type": "code",
   "execution_count": 223,
   "metadata": {},
   "outputs": [],
   "source": [
    "train_df = df.loc[df['id'].isin(train_id)]\n",
    "valid_df = df.loc[df['id'].isin(valid_id)]\n",
    "test_df = df.loc[df['id'].isin(test_id)]"
   ]
  },
  {
   "cell_type": "code",
   "execution_count": 228,
   "metadata": {},
   "outputs": [
    {
     "data": {
      "text/plain": [
       "(0.4998030112550856, 0.49845480120289914, 0.5014620693478201)"
      ]
     },
     "execution_count": 228,
     "metadata": {},
     "output_type": "execute_result"
    }
   ],
   "source": [
    "train_df['target'].sum() / len(train_df), valid_df['target'].sum() / len(valid_df), \\\n",
    "test_df['target'].sum() / len(test_df)"
   ]
  },
  {
   "cell_type": "code",
   "execution_count": 224,
   "metadata": {},
   "outputs": [
    {
     "data": {
      "text/plain": [
       "(0.6999986141522769, 0.10000138584772306, 0.2)"
      ]
     },
     "execution_count": 224,
     "metadata": {},
     "output_type": "execute_result"
    }
   ],
   "source": [
    "len(train_id) / len(df), len(valid_id) / len(df), len(test_id) / len(df)"
   ]
  },
  {
   "cell_type": "code",
   "execution_count": 225,
   "metadata": {},
   "outputs": [],
   "source": [
    "train_df.reset_index(inplace=True, drop=True)\n",
    "valid_df.reset_index(inplace=True, drop=True)\n",
    "test_df.reset_index(inplace=True, drop=True)"
   ]
  },
  {
   "cell_type": "code",
   "execution_count": 226,
   "metadata": {},
   "outputs": [
    {
     "name": "stdout",
     "output_type": "stream",
     "text": [
      "/notebook/poison/poisonattack/DataPreprocessing\r\n"
     ]
    }
   ],
   "source": [
    "!pwd"
   ]
  },
  {
   "cell_type": "code",
   "execution_count": 227,
   "metadata": {},
   "outputs": [],
   "source": [
    "train_df.to_csv('../../data/processed_raif/train.csv')\n",
    "valid_df.to_csv('../../data/processed_raif/valid.csv')\n",
    "test_df.to_csv('../../data/processed_raif/test.csv')"
   ]
  },
  {
   "cell_type": "code",
   "execution_count": null,
   "metadata": {},
   "outputs": [],
   "source": []
  }
 ],
 "metadata": {
  "kernelspec": {
   "display_name": "Python 3",
   "language": "python",
   "name": "python3"
  },
  "language_info": {
   "codemirror_mode": {
    "name": "ipython",
    "version": 3
   },
   "file_extension": ".py",
   "mimetype": "text/x-python",
   "name": "python",
   "nbconvert_exporter": "python",
   "pygments_lexer": "ipython3",
   "version": "3.6.9"
  }
 },
 "nbformat": 4,
 "nbformat_minor": 4
}
