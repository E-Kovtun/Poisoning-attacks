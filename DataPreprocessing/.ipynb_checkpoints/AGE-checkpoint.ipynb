{
 "cells": [
  {
   "cell_type": "code",
   "execution_count": 162,
   "metadata": {},
   "outputs": [],
   "source": [
    "import numpy as np\n",
    "import pandas as pd\n",
    "import matplotlib.pyplot as plt\n",
    "import os\n",
    "from sklearn.preprocessing import LabelEncoder\n",
    "import collections"
   ]
  },
  {
   "cell_type": "code",
   "execution_count": 152,
   "metadata": {},
   "outputs": [],
   "source": [
    "data_folder = '../../data/age/'"
   ]
  },
  {
   "cell_type": "code",
   "execution_count": 153,
   "metadata": {},
   "outputs": [],
   "source": [
    "data = pd.read_csv(os.path.join(data_folder, 'transactions_train.csv'), delimiter=',')"
   ]
  },
  {
   "cell_type": "code",
   "execution_count": 154,
   "metadata": {},
   "outputs": [
    {
     "data": {
      "text/html": [
       "<div>\n",
       "<style scoped>\n",
       "    .dataframe tbody tr th:only-of-type {\n",
       "        vertical-align: middle;\n",
       "    }\n",
       "\n",
       "    .dataframe tbody tr th {\n",
       "        vertical-align: top;\n",
       "    }\n",
       "\n",
       "    .dataframe thead th {\n",
       "        text-align: right;\n",
       "    }\n",
       "</style>\n",
       "<table border=\"1\" class=\"dataframe\">\n",
       "  <thead>\n",
       "    <tr style=\"text-align: right;\">\n",
       "      <th></th>\n",
       "      <th>client_id</th>\n",
       "      <th>trans_date</th>\n",
       "      <th>small_group</th>\n",
       "      <th>amount_rur</th>\n",
       "    </tr>\n",
       "  </thead>\n",
       "  <tbody>\n",
       "    <tr>\n",
       "      <th>0</th>\n",
       "      <td>33172</td>\n",
       "      <td>6</td>\n",
       "      <td>4</td>\n",
       "      <td>71.463</td>\n",
       "    </tr>\n",
       "    <tr>\n",
       "      <th>1</th>\n",
       "      <td>33172</td>\n",
       "      <td>6</td>\n",
       "      <td>35</td>\n",
       "      <td>45.017</td>\n",
       "    </tr>\n",
       "    <tr>\n",
       "      <th>2</th>\n",
       "      <td>33172</td>\n",
       "      <td>8</td>\n",
       "      <td>11</td>\n",
       "      <td>13.887</td>\n",
       "    </tr>\n",
       "    <tr>\n",
       "      <th>3</th>\n",
       "      <td>33172</td>\n",
       "      <td>9</td>\n",
       "      <td>11</td>\n",
       "      <td>15.983</td>\n",
       "    </tr>\n",
       "    <tr>\n",
       "      <th>4</th>\n",
       "      <td>33172</td>\n",
       "      <td>10</td>\n",
       "      <td>11</td>\n",
       "      <td>21.341</td>\n",
       "    </tr>\n",
       "  </tbody>\n",
       "</table>\n",
       "</div>"
      ],
      "text/plain": [
       "   client_id  trans_date  small_group  amount_rur\n",
       "0      33172           6            4      71.463\n",
       "1      33172           6           35      45.017\n",
       "2      33172           8           11      13.887\n",
       "3      33172           9           11      15.983\n",
       "4      33172          10           11      21.341"
      ]
     },
     "execution_count": 154,
     "metadata": {},
     "output_type": "execute_result"
    }
   ],
   "source": [
    "data.head()"
   ]
  },
  {
   "cell_type": "code",
   "execution_count": 155,
   "metadata": {},
   "outputs": [],
   "source": [
    "enc = LabelEncoder()\n",
    "data['small_group'] = enc.fit_transform(data['small_group'])"
   ]
  },
  {
   "cell_type": "code",
   "execution_count": 163,
   "metadata": {},
   "outputs": [
    {
     "data": {
      "text/plain": [
       "Counter({4: 1207604,\n",
       "         35: 121878,\n",
       "         11: 3202881,\n",
       "         18: 1158512,\n",
       "         1: 8131374,\n",
       "         3: 2428984,\n",
       "         82: 245291,\n",
       "         32: 106237,\n",
       "         12: 773805,\n",
       "         40: 19071,\n",
       "         9: 689342,\n",
       "         24: 462932,\n",
       "         33: 51207,\n",
       "         25: 702896,\n",
       "         15: 1427077,\n",
       "         23: 123140,\n",
       "         46: 89631,\n",
       "         31: 114765,\n",
       "         28: 129043,\n",
       "         80: 45405,\n",
       "         36: 372445,\n",
       "         16: 230930,\n",
       "         43: 77045,\n",
       "         83: 23320,\n",
       "         84: 1641,\n",
       "         58: 57707,\n",
       "         54: 50203,\n",
       "         44: 34669,\n",
       "         21: 121548,\n",
       "         85: 524,\n",
       "         8: 99526,\n",
       "         86: 11985,\n",
       "         17: 80866,\n",
       "         26: 106198,\n",
       "         72: 55073,\n",
       "         13: 58504,\n",
       "         19: 42319,\n",
       "         87: 14018,\n",
       "         88: 1240,\n",
       "         20: 96686,\n",
       "         65: 20156,\n",
       "         89: 8335,\n",
       "         39: 92313,\n",
       "         34: 435229,\n",
       "         37: 156559,\n",
       "         5: 81212,\n",
       "         45: 49636,\n",
       "         90: 644,\n",
       "         91: 74688,\n",
       "         57: 158137,\n",
       "         0: 165773,\n",
       "         67: 47846,\n",
       "         47: 37602,\n",
       "         68: 16297,\n",
       "         2: 908408,\n",
       "         38: 10607,\n",
       "         51: 5418,\n",
       "         41: 11556,\n",
       "         92: 11353,\n",
       "         10: 89191,\n",
       "         93: 59,\n",
       "         78: 40699,\n",
       "         7: 19752,\n",
       "         14: 28905,\n",
       "         62: 21034,\n",
       "         66: 10944,\n",
       "         64: 93634,\n",
       "         94: 880,\n",
       "         55: 94181,\n",
       "         59: 4984,\n",
       "         29: 71664,\n",
       "         22: 77116,\n",
       "         53: 30098,\n",
       "         95: 33058,\n",
       "         6: 16827,\n",
       "         42: 17243,\n",
       "         76: 21327,\n",
       "         27: 13444,\n",
       "         96: 2789,\n",
       "         49: 6371,\n",
       "         63: 42354,\n",
       "         77: 24048,\n",
       "         97: 1130,\n",
       "         98: 11152,\n",
       "         105: 5583,\n",
       "         99: 1916,\n",
       "         106: 27146,\n",
       "         107: 706,\n",
       "         48: 49209,\n",
       "         52: 20135,\n",
       "         108: 340,\n",
       "         30: 73104,\n",
       "         109: 62417,\n",
       "         79: 8005,\n",
       "         61: 103997,\n",
       "         69: 8181,\n",
       "         110: 754,\n",
       "         111: 3254,\n",
       "         112: 13367,\n",
       "         113: 748,\n",
       "         114: 2732,\n",
       "         100: 1578,\n",
       "         75: 16287,\n",
       "         50: 53317,\n",
       "         101: 6304,\n",
       "         81: 2676,\n",
       "         119: 534,\n",
       "         103: 5437,\n",
       "         120: 8605,\n",
       "         121: 2095,\n",
       "         122: 1470,\n",
       "         123: 2963,\n",
       "         74: 17072,\n",
       "         127: 389,\n",
       "         129: 492,\n",
       "         130: 371,\n",
       "         131: 10515,\n",
       "         102: 4647,\n",
       "         132: 551,\n",
       "         133: 2684,\n",
       "         124: 1978,\n",
       "         126: 204,\n",
       "         135: 1332,\n",
       "         136: 194,\n",
       "         117: 424,\n",
       "         70: 2939,\n",
       "         137: 2841,\n",
       "         125: 13802,\n",
       "         71: 4394,\n",
       "         138: 851,\n",
       "         139: 4514,\n",
       "         141: 835,\n",
       "         143: 1391,\n",
       "         145: 164,\n",
       "         56: 1636,\n",
       "         149: 195,\n",
       "         115: 19657,\n",
       "         150: 442,\n",
       "         146: 958,\n",
       "         151: 513,\n",
       "         152: 18,\n",
       "         104: 7497,\n",
       "         156: 602,\n",
       "         158: 151,\n",
       "         160: 603,\n",
       "         140: 789,\n",
       "         147: 14881,\n",
       "         153: 678,\n",
       "         142: 1278,\n",
       "         163: 365,\n",
       "         128: 195,\n",
       "         161: 3321,\n",
       "         155: 106,\n",
       "         164: 32,\n",
       "         144: 1035,\n",
       "         134: 344,\n",
       "         165: 60,\n",
       "         166: 2070,\n",
       "         148: 281,\n",
       "         167: 54,\n",
       "         73: 1080,\n",
       "         168: 114,\n",
       "         170: 209,\n",
       "         154: 580,\n",
       "         172: 204,\n",
       "         60: 51,\n",
       "         174: 125,\n",
       "         173: 100,\n",
       "         118: 181,\n",
       "         177: 58,\n",
       "         178: 38,\n",
       "         179: 70,\n",
       "         180: 96,\n",
       "         171: 199,\n",
       "         176: 165,\n",
       "         182: 64,\n",
       "         184: 17,\n",
       "         185: 222,\n",
       "         116: 549,\n",
       "         186: 16,\n",
       "         157: 162,\n",
       "         169: 289,\n",
       "         162: 330,\n",
       "         187: 60,\n",
       "         181: 73,\n",
       "         189: 5,\n",
       "         159: 17,\n",
       "         190: 28,\n",
       "         183: 7,\n",
       "         191: 34,\n",
       "         192: 4,\n",
       "         193: 10,\n",
       "         195: 4,\n",
       "         194: 11,\n",
       "         197: 9,\n",
       "         175: 3,\n",
       "         198: 1,\n",
       "         199: 1,\n",
       "         196: 7,\n",
       "         200: 2,\n",
       "         201: 1,\n",
       "         188: 1})"
      ]
     },
     "execution_count": 163,
     "metadata": {},
     "output_type": "execute_result"
    }
   ],
   "source": [
    "collections.Counter(data['small_group'].values)"
   ]
  },
  {
   "cell_type": "code",
   "execution_count": 161,
   "metadata": {},
   "outputs": [
    {
     "name": "stdout",
     "output_type": "stream",
     "text": [
      "[[      0  165773]\n",
      " [      1 8131374]\n",
      " [      2  908408]\n",
      " [      3 2428984]\n",
      " [      4 1207604]\n",
      " [      5   81212]\n",
      " [      6   16827]\n",
      " [      7   19752]\n",
      " [      8   99526]\n",
      " [      9  689342]\n",
      " [     10   89191]\n",
      " [     11 3202881]\n",
      " [     12  773805]\n",
      " [     13   58504]\n",
      " [     14   28905]\n",
      " [     15 1427077]\n",
      " [     16  230930]\n",
      " [     17   80866]\n",
      " [     18 1158512]\n",
      " [     19   42319]\n",
      " [     20   96686]\n",
      " [     21  121548]\n",
      " [     22   77116]\n",
      " [     23  123140]\n",
      " [     24  462932]\n",
      " [     25  702896]\n",
      " [     26  106198]\n",
      " [     27   13444]\n",
      " [     28  129043]\n",
      " [     29   71664]\n",
      " [     30   73104]\n",
      " [     31  114765]\n",
      " [     32  106237]\n",
      " [     33   51207]\n",
      " [     34  435229]\n",
      " [     35  121878]\n",
      " [     36  372445]\n",
      " [     37  156559]\n",
      " [     38   10607]\n",
      " [     39   92313]\n",
      " [     40   19071]\n",
      " [     41   11556]\n",
      " [     42   17243]\n",
      " [     43   77045]\n",
      " [     44   34669]\n",
      " [     45   49636]\n",
      " [     46   89631]\n",
      " [     47   37602]\n",
      " [     48   49209]\n",
      " [     49    6371]\n",
      " [     50   53317]\n",
      " [     51    5418]\n",
      " [     52   20135]\n",
      " [     53   30098]\n",
      " [     54   50203]\n",
      " [     55   94181]\n",
      " [     56    1636]\n",
      " [     57  158137]\n",
      " [     58   57707]\n",
      " [     59    4984]\n",
      " [     60      51]\n",
      " [     61  103997]\n",
      " [     62   21034]\n",
      " [     63   42354]\n",
      " [     64   93634]\n",
      " [     65   20156]\n",
      " [     66   10944]\n",
      " [     67   47846]\n",
      " [     68   16297]\n",
      " [     69    8181]\n",
      " [     70    2939]\n",
      " [     71    4394]\n",
      " [     72   55073]\n",
      " [     73    1080]\n",
      " [     74   17072]\n",
      " [     75   16287]\n",
      " [     76   21327]\n",
      " [     77   24048]\n",
      " [     78   40699]\n",
      " [     79    8005]\n",
      " [     80   45405]\n",
      " [     81    2676]\n",
      " [     82  245291]\n",
      " [     83   23320]\n",
      " [     84    1641]\n",
      " [     85     524]\n",
      " [     86   11985]\n",
      " [     87   14018]\n",
      " [     88    1240]\n",
      " [     89    8335]\n",
      " [     90     644]\n",
      " [     91   74688]\n",
      " [     92   11353]\n",
      " [     93      59]\n",
      " [     94     880]\n",
      " [     95   33058]\n",
      " [     96    2789]\n",
      " [     97    1130]\n",
      " [     98   11152]\n",
      " [     99    1916]\n",
      " [    100    1578]\n",
      " [    101    6304]\n",
      " [    102    4647]\n",
      " [    103    5437]\n",
      " [    104    7497]\n",
      " [    105    5583]\n",
      " [    106   27146]\n",
      " [    107     706]\n",
      " [    108     340]\n",
      " [    109   62417]\n",
      " [    110     754]\n",
      " [    111    3254]\n",
      " [    112   13367]\n",
      " [    113     748]\n",
      " [    114    2732]\n",
      " [    115   19657]\n",
      " [    116     549]\n",
      " [    117     424]\n",
      " [    118     181]\n",
      " [    119     534]\n",
      " [    120    8605]\n",
      " [    121    2095]\n",
      " [    122    1470]\n",
      " [    123    2963]\n",
      " [    124    1978]\n",
      " [    125   13802]\n",
      " [    126     204]\n",
      " [    127     389]\n",
      " [    128     195]\n",
      " [    129     492]\n",
      " [    130     371]\n",
      " [    131   10515]\n",
      " [    132     551]\n",
      " [    133    2684]\n",
      " [    134     344]\n",
      " [    135    1332]\n",
      " [    136     194]\n",
      " [    137    2841]\n",
      " [    138     851]\n",
      " [    139    4514]\n",
      " [    140     789]\n",
      " [    141     835]\n",
      " [    142    1278]\n",
      " [    143    1391]\n",
      " [    144    1035]\n",
      " [    145     164]\n",
      " [    146     958]\n",
      " [    147   14881]\n",
      " [    148     281]\n",
      " [    149     195]\n",
      " [    150     442]\n",
      " [    151     513]\n",
      " [    152      18]\n",
      " [    153     678]\n",
      " [    154     580]\n",
      " [    155     106]\n",
      " [    156     602]\n",
      " [    157     162]\n",
      " [    158     151]\n",
      " [    159      17]\n",
      " [    160     603]\n",
      " [    161    3321]\n",
      " [    162     330]\n",
      " [    163     365]\n",
      " [    164      32]\n",
      " [    165      60]\n",
      " [    166    2070]\n",
      " [    167      54]\n",
      " [    168     114]\n",
      " [    169     289]\n",
      " [    170     209]\n",
      " [    171     199]\n",
      " [    172     204]\n",
      " [    173     100]\n",
      " [    174     125]\n",
      " [    175       3]\n",
      " [    176     165]\n",
      " [    177      58]\n",
      " [    178      38]\n",
      " [    179      70]\n",
      " [    180      96]\n",
      " [    181      73]\n",
      " [    182      64]\n",
      " [    183       7]\n",
      " [    184      17]\n",
      " [    185     222]\n",
      " [    186      16]\n",
      " [    187      60]\n",
      " [    188       1]\n",
      " [    189       5]\n",
      " [    190      28]\n",
      " [    191      34]\n",
      " [    192       4]\n",
      " [    193      10]\n",
      " [    194      11]\n",
      " [    195       4]\n",
      " [    196       7]\n",
      " [    197       9]\n",
      " [    198       1]\n",
      " [    199       1]\n",
      " [    200       2]\n",
      " [    201       1]]\n"
     ]
    }
   ],
   "source": []
  },
  {
   "cell_type": "code",
   "execution_count": 117,
   "metadata": {},
   "outputs": [],
   "source": [
    "data.sort_values(by='trans_date', axis=0, inplace=True)"
   ]
  },
  {
   "cell_type": "code",
   "execution_count": 118,
   "metadata": {},
   "outputs": [],
   "source": [
    "data.reset_index(inplace=True, drop=True)"
   ]
  },
  {
   "cell_type": "code",
   "execution_count": 119,
   "metadata": {},
   "outputs": [
    {
     "data": {
      "text/html": [
       "<div>\n",
       "<style scoped>\n",
       "    .dataframe tbody tr th:only-of-type {\n",
       "        vertical-align: middle;\n",
       "    }\n",
       "\n",
       "    .dataframe tbody tr th {\n",
       "        vertical-align: top;\n",
       "    }\n",
       "\n",
       "    .dataframe thead th {\n",
       "        text-align: right;\n",
       "    }\n",
       "</style>\n",
       "<table border=\"1\" class=\"dataframe\">\n",
       "  <thead>\n",
       "    <tr style=\"text-align: right;\">\n",
       "      <th></th>\n",
       "      <th>client_id</th>\n",
       "      <th>trans_date</th>\n",
       "      <th>small_group</th>\n",
       "      <th>amount_rur</th>\n",
       "    </tr>\n",
       "  </thead>\n",
       "  <tbody>\n",
       "    <tr>\n",
       "      <th>0</th>\n",
       "      <td>44379</td>\n",
       "      <td>0</td>\n",
       "      <td>52</td>\n",
       "      <td>62.535</td>\n",
       "    </tr>\n",
       "    <tr>\n",
       "      <th>1</th>\n",
       "      <td>43594</td>\n",
       "      <td>0</td>\n",
       "      <td>125</td>\n",
       "      <td>10.524</td>\n",
       "    </tr>\n",
       "    <tr>\n",
       "      <th>2</th>\n",
       "      <td>43594</td>\n",
       "      <td>0</td>\n",
       "      <td>36</td>\n",
       "      <td>86.255</td>\n",
       "    </tr>\n",
       "    <tr>\n",
       "      <th>3</th>\n",
       "      <td>5882</td>\n",
       "      <td>0</td>\n",
       "      <td>12</td>\n",
       "      <td>5.132</td>\n",
       "    </tr>\n",
       "    <tr>\n",
       "      <th>4</th>\n",
       "      <td>5882</td>\n",
       "      <td>0</td>\n",
       "      <td>18</td>\n",
       "      <td>11.678</td>\n",
       "    </tr>\n",
       "  </tbody>\n",
       "</table>\n",
       "</div>"
      ],
      "text/plain": [
       "   client_id  trans_date  small_group  amount_rur\n",
       "0      44379           0           52      62.535\n",
       "1      43594           0          125      10.524\n",
       "2      43594           0           36      86.255\n",
       "3       5882           0           12       5.132\n",
       "4       5882           0           18      11.678"
      ]
     },
     "execution_count": 119,
     "metadata": {},
     "output_type": "execute_result"
    }
   ],
   "source": [
    "data.head()"
   ]
  },
  {
   "cell_type": "code",
   "execution_count": 120,
   "metadata": {},
   "outputs": [
    {
     "data": {
      "text/plain": [
       "202"
      ]
     },
     "execution_count": 120,
     "metadata": {},
     "output_type": "execute_result"
    }
   ],
   "source": [
    "len(np.unique(data['small_group']))"
   ]
  },
  {
   "cell_type": "code",
   "execution_count": 121,
   "metadata": {},
   "outputs": [],
   "source": [
    "df = data.groupby('client_id')['small_group'].agg(lambda x: list(x))"
   ]
  },
  {
   "cell_type": "code",
   "execution_count": 122,
   "metadata": {},
   "outputs": [],
   "source": [
    "df = pd.DataFrame(df)\n",
    "df.reset_index(inplace=True)"
   ]
  },
  {
   "cell_type": "code",
   "execution_count": 123,
   "metadata": {},
   "outputs": [
    {
     "data": {
      "text/html": [
       "<div>\n",
       "<style scoped>\n",
       "    .dataframe tbody tr th:only-of-type {\n",
       "        vertical-align: middle;\n",
       "    }\n",
       "\n",
       "    .dataframe tbody tr th {\n",
       "        vertical-align: top;\n",
       "    }\n",
       "\n",
       "    .dataframe thead th {\n",
       "        text-align: right;\n",
       "    }\n",
       "</style>\n",
       "<table border=\"1\" class=\"dataframe\">\n",
       "  <thead>\n",
       "    <tr style=\"text-align: right;\">\n",
       "      <th></th>\n",
       "      <th>client_id</th>\n",
       "      <th>small_group</th>\n",
       "    </tr>\n",
       "  </thead>\n",
       "  <tbody>\n",
       "    <tr>\n",
       "      <th>0</th>\n",
       "      <td>4</td>\n",
       "      <td>[1, 3, 1, 1, 1, 4, 1, 1, 36, 15, 1, 1, 34, 1, ...</td>\n",
       "    </tr>\n",
       "    <tr>\n",
       "      <th>1</th>\n",
       "      <td>6</td>\n",
       "      <td>[15, 3, 1, 3, 1, 15, 15, 3, 37, 11, 3, 1, 3, 1...</td>\n",
       "    </tr>\n",
       "    <tr>\n",
       "      <th>2</th>\n",
       "      <td>7</td>\n",
       "      <td>[3, 19, 1, 4, 11, 25, 3, 1, 18, 1, 1, 25, 9, 2...</td>\n",
       "    </tr>\n",
       "    <tr>\n",
       "      <th>3</th>\n",
       "      <td>10</td>\n",
       "      <td>[9, 19, 1, 0, 11, 1, 18, 24, 1, 15, 1, 3, 1, 1...</td>\n",
       "    </tr>\n",
       "    <tr>\n",
       "      <th>4</th>\n",
       "      <td>11</td>\n",
       "      <td>[3, 25, 1, 1, 11, 1, 25, 1, 1, 11, 3, 1, 22, 2...</td>\n",
       "    </tr>\n",
       "  </tbody>\n",
       "</table>\n",
       "</div>"
      ],
      "text/plain": [
       "   client_id                                        small_group\n",
       "0          4  [1, 3, 1, 1, 1, 4, 1, 1, 36, 15, 1, 1, 34, 1, ...\n",
       "1          6  [15, 3, 1, 3, 1, 15, 15, 3, 37, 11, 3, 1, 3, 1...\n",
       "2          7  [3, 19, 1, 4, 11, 25, 3, 1, 18, 1, 1, 25, 9, 2...\n",
       "3         10  [9, 19, 1, 0, 11, 1, 18, 24, 1, 15, 1, 3, 1, 1...\n",
       "4         11  [3, 25, 1, 1, 11, 1, 25, 1, 1, 11, 3, 1, 22, 2..."
      ]
     },
     "execution_count": 123,
     "metadata": {},
     "output_type": "execute_result"
    }
   ],
   "source": [
    "df.head()"
   ]
  },
  {
   "cell_type": "code",
   "execution_count": 124,
   "metadata": {},
   "outputs": [],
   "source": [
    "target = pd.read_csv(os.path.join(data_folder, 'train_target.csv'), delimiter=',')"
   ]
  },
  {
   "cell_type": "code",
   "execution_count": 125,
   "metadata": {},
   "outputs": [
    {
     "data": {
      "text/html": [
       "<div>\n",
       "<style scoped>\n",
       "    .dataframe tbody tr th:only-of-type {\n",
       "        vertical-align: middle;\n",
       "    }\n",
       "\n",
       "    .dataframe tbody tr th {\n",
       "        vertical-align: top;\n",
       "    }\n",
       "\n",
       "    .dataframe thead th {\n",
       "        text-align: right;\n",
       "    }\n",
       "</style>\n",
       "<table border=\"1\" class=\"dataframe\">\n",
       "  <thead>\n",
       "    <tr style=\"text-align: right;\">\n",
       "      <th></th>\n",
       "      <th>client_id</th>\n",
       "      <th>bins</th>\n",
       "    </tr>\n",
       "  </thead>\n",
       "  <tbody>\n",
       "    <tr>\n",
       "      <th>0</th>\n",
       "      <td>24662</td>\n",
       "      <td>2</td>\n",
       "    </tr>\n",
       "    <tr>\n",
       "      <th>1</th>\n",
       "      <td>1046</td>\n",
       "      <td>0</td>\n",
       "    </tr>\n",
       "    <tr>\n",
       "      <th>2</th>\n",
       "      <td>34089</td>\n",
       "      <td>2</td>\n",
       "    </tr>\n",
       "    <tr>\n",
       "      <th>3</th>\n",
       "      <td>34848</td>\n",
       "      <td>1</td>\n",
       "    </tr>\n",
       "    <tr>\n",
       "      <th>4</th>\n",
       "      <td>47076</td>\n",
       "      <td>3</td>\n",
       "    </tr>\n",
       "  </tbody>\n",
       "</table>\n",
       "</div>"
      ],
      "text/plain": [
       "   client_id  bins\n",
       "0      24662     2\n",
       "1       1046     0\n",
       "2      34089     2\n",
       "3      34848     1\n",
       "4      47076     3"
      ]
     },
     "execution_count": 125,
     "metadata": {},
     "output_type": "execute_result"
    }
   ],
   "source": [
    "target.head()"
   ]
  },
  {
   "cell_type": "code",
   "execution_count": 126,
   "metadata": {},
   "outputs": [],
   "source": [
    "df = df.merge(target, how='inner', on='client_id')"
   ]
  },
  {
   "cell_type": "code",
   "execution_count": 127,
   "metadata": {},
   "outputs": [
    {
     "data": {
      "text/html": [
       "<div>\n",
       "<style scoped>\n",
       "    .dataframe tbody tr th:only-of-type {\n",
       "        vertical-align: middle;\n",
       "    }\n",
       "\n",
       "    .dataframe tbody tr th {\n",
       "        vertical-align: top;\n",
       "    }\n",
       "\n",
       "    .dataframe thead th {\n",
       "        text-align: right;\n",
       "    }\n",
       "</style>\n",
       "<table border=\"1\" class=\"dataframe\">\n",
       "  <thead>\n",
       "    <tr style=\"text-align: right;\">\n",
       "      <th></th>\n",
       "      <th>client_id</th>\n",
       "      <th>small_group</th>\n",
       "      <th>bins</th>\n",
       "    </tr>\n",
       "  </thead>\n",
       "  <tbody>\n",
       "    <tr>\n",
       "      <th>0</th>\n",
       "      <td>4</td>\n",
       "      <td>[1, 3, 1, 1, 1, 4, 1, 1, 36, 15, 1, 1, 34, 1, ...</td>\n",
       "      <td>1</td>\n",
       "    </tr>\n",
       "    <tr>\n",
       "      <th>1</th>\n",
       "      <td>6</td>\n",
       "      <td>[15, 3, 1, 3, 1, 15, 15, 3, 37, 11, 3, 1, 3, 1...</td>\n",
       "      <td>1</td>\n",
       "    </tr>\n",
       "    <tr>\n",
       "      <th>2</th>\n",
       "      <td>7</td>\n",
       "      <td>[3, 19, 1, 4, 11, 25, 3, 1, 18, 1, 1, 25, 9, 2...</td>\n",
       "      <td>0</td>\n",
       "    </tr>\n",
       "    <tr>\n",
       "      <th>3</th>\n",
       "      <td>10</td>\n",
       "      <td>[9, 19, 1, 0, 11, 1, 18, 24, 1, 15, 1, 3, 1, 1...</td>\n",
       "      <td>3</td>\n",
       "    </tr>\n",
       "    <tr>\n",
       "      <th>4</th>\n",
       "      <td>11</td>\n",
       "      <td>[3, 25, 1, 1, 11, 1, 25, 1, 1, 11, 3, 1, 22, 2...</td>\n",
       "      <td>3</td>\n",
       "    </tr>\n",
       "  </tbody>\n",
       "</table>\n",
       "</div>"
      ],
      "text/plain": [
       "   client_id                                        small_group  bins\n",
       "0          4  [1, 3, 1, 1, 1, 4, 1, 1, 36, 15, 1, 1, 34, 1, ...     1\n",
       "1          6  [15, 3, 1, 3, 1, 15, 15, 3, 37, 11, 3, 1, 3, 1...     1\n",
       "2          7  [3, 19, 1, 4, 11, 25, 3, 1, 18, 1, 1, 25, 9, 2...     0\n",
       "3         10  [9, 19, 1, 0, 11, 1, 18, 24, 1, 15, 1, 3, 1, 1...     3\n",
       "4         11  [3, 25, 1, 1, 11, 1, 25, 1, 1, 11, 3, 1, 22, 2...     3"
      ]
     },
     "execution_count": 127,
     "metadata": {},
     "output_type": "execute_result"
    }
   ],
   "source": [
    "df.head()"
   ]
  },
  {
   "cell_type": "code",
   "execution_count": 128,
   "metadata": {},
   "outputs": [
    {
     "data": {
      "text/plain": [
       "2    7560\n",
       "3    7509\n",
       "1    7497\n",
       "0    7434\n",
       "Name: bins, dtype: int64"
      ]
     },
     "execution_count": 128,
     "metadata": {},
     "output_type": "execute_result"
    }
   ],
   "source": [
    "df['bins'].value_counts()"
   ]
  },
  {
   "cell_type": "code",
   "execution_count": 129,
   "metadata": {},
   "outputs": [],
   "source": [
    "df['bins'] = df['bins'].apply(lambda x: 0 if x in [0, 1] else 1)"
   ]
  },
  {
   "cell_type": "code",
   "execution_count": 130,
   "metadata": {},
   "outputs": [
    {
     "data": {
      "text/html": [
       "<div>\n",
       "<style scoped>\n",
       "    .dataframe tbody tr th:only-of-type {\n",
       "        vertical-align: middle;\n",
       "    }\n",
       "\n",
       "    .dataframe tbody tr th {\n",
       "        vertical-align: top;\n",
       "    }\n",
       "\n",
       "    .dataframe thead th {\n",
       "        text-align: right;\n",
       "    }\n",
       "</style>\n",
       "<table border=\"1\" class=\"dataframe\">\n",
       "  <thead>\n",
       "    <tr style=\"text-align: right;\">\n",
       "      <th></th>\n",
       "      <th>client_id</th>\n",
       "      <th>small_group</th>\n",
       "      <th>bins</th>\n",
       "    </tr>\n",
       "  </thead>\n",
       "  <tbody>\n",
       "    <tr>\n",
       "      <th>0</th>\n",
       "      <td>4</td>\n",
       "      <td>[1, 3, 1, 1, 1, 4, 1, 1, 36, 15, 1, 1, 34, 1, ...</td>\n",
       "      <td>0</td>\n",
       "    </tr>\n",
       "    <tr>\n",
       "      <th>1</th>\n",
       "      <td>6</td>\n",
       "      <td>[15, 3, 1, 3, 1, 15, 15, 3, 37, 11, 3, 1, 3, 1...</td>\n",
       "      <td>0</td>\n",
       "    </tr>\n",
       "    <tr>\n",
       "      <th>2</th>\n",
       "      <td>7</td>\n",
       "      <td>[3, 19, 1, 4, 11, 25, 3, 1, 18, 1, 1, 25, 9, 2...</td>\n",
       "      <td>0</td>\n",
       "    </tr>\n",
       "    <tr>\n",
       "      <th>3</th>\n",
       "      <td>10</td>\n",
       "      <td>[9, 19, 1, 0, 11, 1, 18, 24, 1, 15, 1, 3, 1, 1...</td>\n",
       "      <td>1</td>\n",
       "    </tr>\n",
       "    <tr>\n",
       "      <th>4</th>\n",
       "      <td>11</td>\n",
       "      <td>[3, 25, 1, 1, 11, 1, 25, 1, 1, 11, 3, 1, 22, 2...</td>\n",
       "      <td>1</td>\n",
       "    </tr>\n",
       "  </tbody>\n",
       "</table>\n",
       "</div>"
      ],
      "text/plain": [
       "   client_id                                        small_group  bins\n",
       "0          4  [1, 3, 1, 1, 1, 4, 1, 1, 36, 15, 1, 1, 34, 1, ...     0\n",
       "1          6  [15, 3, 1, 3, 1, 15, 15, 3, 37, 11, 3, 1, 3, 1...     0\n",
       "2          7  [3, 19, 1, 4, 11, 25, 3, 1, 18, 1, 1, 25, 9, 2...     0\n",
       "3         10  [9, 19, 1, 0, 11, 1, 18, 24, 1, 15, 1, 3, 1, 1...     1\n",
       "4         11  [3, 25, 1, 1, 11, 1, 25, 1, 1, 11, 3, 1, 22, 2...     1"
      ]
     },
     "execution_count": 130,
     "metadata": {},
     "output_type": "execute_result"
    }
   ],
   "source": [
    "df.head()"
   ]
  },
  {
   "cell_type": "code",
   "execution_count": 131,
   "metadata": {},
   "outputs": [
    {
     "data": {
      "text/plain": [
       "1    15069\n",
       "0    14931\n",
       "Name: bins, dtype: int64"
      ]
     },
     "execution_count": 131,
     "metadata": {},
     "output_type": "execute_result"
    }
   ],
   "source": [
    "df['bins'].value_counts()"
   ]
  },
  {
   "cell_type": "code",
   "execution_count": 132,
   "metadata": {},
   "outputs": [],
   "source": [
    "df.rename({'client_id': 'id', 'small_group': 'mcc', 'bins': 'target'}, axis=1, inplace=True)"
   ]
  },
  {
   "cell_type": "code",
   "execution_count": 133,
   "metadata": {},
   "outputs": [
    {
     "data": {
      "text/html": [
       "<div>\n",
       "<style scoped>\n",
       "    .dataframe tbody tr th:only-of-type {\n",
       "        vertical-align: middle;\n",
       "    }\n",
       "\n",
       "    .dataframe tbody tr th {\n",
       "        vertical-align: top;\n",
       "    }\n",
       "\n",
       "    .dataframe thead th {\n",
       "        text-align: right;\n",
       "    }\n",
       "</style>\n",
       "<table border=\"1\" class=\"dataframe\">\n",
       "  <thead>\n",
       "    <tr style=\"text-align: right;\">\n",
       "      <th></th>\n",
       "      <th>id</th>\n",
       "      <th>mcc</th>\n",
       "      <th>target</th>\n",
       "    </tr>\n",
       "  </thead>\n",
       "  <tbody>\n",
       "    <tr>\n",
       "      <th>0</th>\n",
       "      <td>4</td>\n",
       "      <td>[1, 3, 1, 1, 1, 4, 1, 1, 36, 15, 1, 1, 34, 1, ...</td>\n",
       "      <td>0</td>\n",
       "    </tr>\n",
       "    <tr>\n",
       "      <th>1</th>\n",
       "      <td>6</td>\n",
       "      <td>[15, 3, 1, 3, 1, 15, 15, 3, 37, 11, 3, 1, 3, 1...</td>\n",
       "      <td>0</td>\n",
       "    </tr>\n",
       "    <tr>\n",
       "      <th>2</th>\n",
       "      <td>7</td>\n",
       "      <td>[3, 19, 1, 4, 11, 25, 3, 1, 18, 1, 1, 25, 9, 2...</td>\n",
       "      <td>0</td>\n",
       "    </tr>\n",
       "    <tr>\n",
       "      <th>3</th>\n",
       "      <td>10</td>\n",
       "      <td>[9, 19, 1, 0, 11, 1, 18, 24, 1, 15, 1, 3, 1, 1...</td>\n",
       "      <td>1</td>\n",
       "    </tr>\n",
       "    <tr>\n",
       "      <th>4</th>\n",
       "      <td>11</td>\n",
       "      <td>[3, 25, 1, 1, 11, 1, 25, 1, 1, 11, 3, 1, 22, 2...</td>\n",
       "      <td>1</td>\n",
       "    </tr>\n",
       "  </tbody>\n",
       "</table>\n",
       "</div>"
      ],
      "text/plain": [
       "   id                                                mcc  target\n",
       "0   4  [1, 3, 1, 1, 1, 4, 1, 1, 36, 15, 1, 1, 34, 1, ...       0\n",
       "1   6  [15, 3, 1, 3, 1, 15, 15, 3, 37, 11, 3, 1, 3, 1...       0\n",
       "2   7  [3, 19, 1, 4, 11, 25, 3, 1, 18, 1, 1, 25, 9, 2...       0\n",
       "3  10  [9, 19, 1, 0, 11, 1, 18, 24, 1, 15, 1, 3, 1, 1...       1\n",
       "4  11  [3, 25, 1, 1, 11, 1, 25, 1, 1, 11, 3, 1, 22, 2...       1"
      ]
     },
     "execution_count": 133,
     "metadata": {},
     "output_type": "execute_result"
    }
   ],
   "source": [
    "df.head()"
   ]
  },
  {
   "cell_type": "code",
   "execution_count": 134,
   "metadata": {},
   "outputs": [
    {
     "data": {
      "text/plain": [
       "(30000, 3)"
      ]
     },
     "execution_count": 134,
     "metadata": {},
     "output_type": "execute_result"
    }
   ],
   "source": [
    "df.shape"
   ]
  },
  {
   "cell_type": "code",
   "execution_count": 135,
   "metadata": {},
   "outputs": [],
   "source": [
    "all_l = []\n",
    "for i in range(len(df)):\n",
    "    all_l.append(len(df.loc[i, 'mcc']))"
   ]
  },
  {
   "cell_type": "code",
   "execution_count": 136,
   "metadata": {},
   "outputs": [
    {
     "data": {
      "text/plain": [
       "863.0"
      ]
     },
     "execution_count": 136,
     "metadata": {},
     "output_type": "execute_result"
    }
   ],
   "source": [
    "np.median(all_l)"
   ]
  },
  {
   "cell_type": "code",
   "execution_count": 137,
   "metadata": {},
   "outputs": [
    {
     "data": {
      "text/plain": [
       "728.0"
      ]
     },
     "execution_count": 137,
     "metadata": {},
     "output_type": "execute_result"
    }
   ],
   "source": [
    "np.quantile(all_l, 0.1)"
   ]
  },
  {
   "cell_type": "code",
   "execution_count": 138,
   "metadata": {},
   "outputs": [
    {
     "data": {
      "text/plain": [
       "904.0"
      ]
     },
     "execution_count": 138,
     "metadata": {},
     "output_type": "execute_result"
    }
   ],
   "source": [
    "np.quantile(all_l, 0.6)"
   ]
  },
  {
   "cell_type": "code",
   "execution_count": 139,
   "metadata": {},
   "outputs": [
    {
     "data": {
      "text/plain": [
       "1150"
      ]
     },
     "execution_count": 139,
     "metadata": {},
     "output_type": "execute_result"
    }
   ],
   "source": [
    "np.max(all_l)"
   ]
  },
  {
   "cell_type": "code",
   "execution_count": 140,
   "metadata": {},
   "outputs": [],
   "source": [
    "df['mcc'] = df['mcc'].apply(lambda x: x[-900:])"
   ]
  },
  {
   "cell_type": "code",
   "execution_count": 141,
   "metadata": {},
   "outputs": [
    {
     "data": {
      "text/plain": [
       "1    15069\n",
       "0    14931\n",
       "Name: target, dtype: int64"
      ]
     },
     "execution_count": 141,
     "metadata": {},
     "output_type": "execute_result"
    }
   ],
   "source": [
    "df['target'].value_counts()"
   ]
  },
  {
   "cell_type": "code",
   "execution_count": 142,
   "metadata": {},
   "outputs": [
    {
     "data": {
      "text/plain": [
       "50.0"
      ]
     },
     "execution_count": 142,
     "metadata": {},
     "output_type": "execute_result"
    }
   ],
   "source": [
    "zero_id = df.loc[df['target']==0]['id']\n",
    "one_id = df.loc[df['target']==1]['id']\n",
    "\n",
    "reduced_one_id = np.random.choice(one_id, size=len(df.loc[df['target']==0]), replace=False)\n",
    "df = df.loc[df['id'].isin(list(zero_id)+list(reduced_one_id))]\n",
    "df.reset_index(inplace=True, drop=True)\n",
    "df['target'].sum() / len(df) * 100"
   ]
  },
  {
   "cell_type": "code",
   "execution_count": 143,
   "metadata": {},
   "outputs": [],
   "source": [
    "df = df.sample(frac=1).reset_index(drop=True)"
   ]
  },
  {
   "cell_type": "markdown",
   "metadata": {},
   "source": [
    "### Train-valid-test split"
   ]
  },
  {
   "cell_type": "code",
   "execution_count": 144,
   "metadata": {},
   "outputs": [],
   "source": [
    "all_id = df['id'].values"
   ]
  },
  {
   "cell_type": "code",
   "execution_count": 145,
   "metadata": {},
   "outputs": [],
   "source": [
    "train_id = all_id[:int(0.7 * len(all_id))]\n",
    "valid_id = all_id[int(0.7 * len(all_id)):int(0.8 * len(all_id))]\n",
    "test_id = all_id[int(0.8 * len(all_id)):]"
   ]
  },
  {
   "cell_type": "code",
   "execution_count": 146,
   "metadata": {},
   "outputs": [],
   "source": [
    "train_df = df.loc[df['id'].isin(train_id)]\n",
    "valid_df = df.loc[df['id'].isin(valid_id)]\n",
    "test_df = df.loc[df['id'].isin(test_id)]"
   ]
  },
  {
   "cell_type": "code",
   "execution_count": 147,
   "metadata": {},
   "outputs": [
    {
     "data": {
      "text/plain": [
       "(0.502368081136679, 0.4939718687206966, 0.49472626820693116)"
      ]
     },
     "execution_count": 147,
     "metadata": {},
     "output_type": "execute_result"
    }
   ],
   "source": [
    "train_df['target'].sum() / len(train_df), valid_df['target'].sum() / len(valid_df), \\\n",
    "test_df['target'].sum() / len(test_df)"
   ]
  },
  {
   "cell_type": "code",
   "execution_count": 148,
   "metadata": {},
   "outputs": [
    {
     "data": {
      "text/plain": [
       "(0.6999866050498962, 0.09999330252494809, 0.20002009242515573)"
      ]
     },
     "execution_count": 148,
     "metadata": {},
     "output_type": "execute_result"
    }
   ],
   "source": [
    "len(train_id) / len(df), len(valid_id) / len(df), len(test_id) / len(df)"
   ]
  },
  {
   "cell_type": "code",
   "execution_count": 149,
   "metadata": {},
   "outputs": [],
   "source": [
    "train_df.reset_index(inplace=True, drop=True)\n",
    "valid_df.reset_index(inplace=True, drop=True)\n",
    "test_df.reset_index(inplace=True, drop=True)"
   ]
  },
  {
   "cell_type": "code",
   "execution_count": 150,
   "metadata": {},
   "outputs": [],
   "source": [
    "train_df.to_csv('../../data/processed_age/train.csv')\n",
    "valid_df.to_csv('../../data/processed_age/valid.csv')\n",
    "test_df.to_csv('../../data/processed_age/test.csv')"
   ]
  },
  {
   "cell_type": "code",
   "execution_count": null,
   "metadata": {},
   "outputs": [],
   "source": []
  },
  {
   "cell_type": "code",
   "execution_count": null,
   "metadata": {},
   "outputs": [],
   "source": []
  },
  {
   "cell_type": "code",
   "execution_count": null,
   "metadata": {},
   "outputs": [],
   "source": []
  },
  {
   "cell_type": "code",
   "execution_count": null,
   "metadata": {},
   "outputs": [],
   "source": []
  },
  {
   "cell_type": "code",
   "execution_count": null,
   "metadata": {},
   "outputs": [],
   "source": []
  }
 ],
 "metadata": {
  "kernelspec": {
   "display_name": "Python 3",
   "language": "python",
   "name": "python3"
  },
  "language_info": {
   "codemirror_mode": {
    "name": "ipython",
    "version": 3
   },
   "file_extension": ".py",
   "mimetype": "text/x-python",
   "name": "python",
   "nbconvert_exporter": "python",
   "pygments_lexer": "ipython3",
   "version": "3.6.9"
  }
 },
 "nbformat": 4,
 "nbformat_minor": 4
}
